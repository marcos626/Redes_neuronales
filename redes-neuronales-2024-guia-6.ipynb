{
  "nbformat": 4,
  "nbformat_minor": 0,
  "metadata": {
    "colab": {
      "provenance": [],
      "include_colab_link": true
    },
    "kernelspec": {
      "name": "python3",
      "display_name": "Python 3"
    },
    "language_info": {
      "name": "python"
    }
  },
  "cells": [
    {
      "cell_type": "markdown",
      "metadata": {
        "id": "view-in-github",
        "colab_type": "text"
      },
      "source": [
        "<a href=\"https://colab.research.google.com/github/marcos626/Redes_neuronales/blob/main/redes-neuronales-2024-guia-6.ipynb\" target=\"_parent\"><img src=\"https://colab.research.google.com/assets/colab-badge.svg\" alt=\"Open In Colab\"/></a>"
      ]
    },
    {
      "cell_type": "markdown",
      "source": [
        "# Caos I: la ecuación de Lorenz\n",
        "\n",
        "## **Ejercicio 1)** Importando librerías\n",
        "\n",
        "**1)** Importe las librerías `numpy` para operar con arrays, `scipy.signal` para analizar señales de datos y `matplotlib.pyplot` para graficar.\n",
        "\n",
        "**2)** Suba el archivo \"libreria\" `ode.py` que fabricó en el práctico 4), e impórtelo."
      ],
      "metadata": {
        "id": "NRYEofSD0xoF"
      }
    },
    {
      "cell_type": "code",
      "source": [
        "# a)\n",
        "import numpy as np\n",
        "#import scipy as sp\n",
        "import scipy.signal as sgn\n",
        "#import scipy.linalg as linalg\n",
        "import matplotlib.pyplot as plt"
      ],
      "metadata": {
        "id": "I8N3D_nU1_oT"
      },
      "execution_count": null,
      "outputs": []
    },
    {
      "cell_type": "code",
      "source": [
        "# b)\n",
        "#import ode\n",
        "\n",
        "def euler(f,x,t,h,p):\n",
        "    \"\"\"\n",
        "    Calcula un paso de integración del método de Euler.\n",
        "\n",
        "    Argumentos de entrada:\n",
        "\n",
        "        f : R^n,R -> R^n\n",
        "        x = x(t) : R^n\n",
        "        t = tiempo : R\n",
        "        h = paso de tiempo : R\n",
        "        p = parametros : R^q\n",
        "\n",
        "    Retorna aproximacion numérica de\n",
        "\n",
        "        x(t+h) : R^n\n",
        "\n",
        "    según el método de Euler.\n",
        "\n",
        "    # Ejemplos:\n",
        "    \"\"\"\n",
        "    return x+h*f(x,t,p)\n",
        "\n",
        "def rk4(f,x,t,h,p):\n",
        "    \"\"\"\n",
        "    Calcula un paso de integración del método de Runge Kutta orden 4.\n",
        "\n",
        "    Argumentos de entrada:\n",
        "\n",
        "        f : R^n -> R^n\n",
        "        x = x(t) : R^n\n",
        "        t = tiempo : R\n",
        "        h = paso de tiempo : R\n",
        "        p = parametros : R^q\n",
        "\n",
        "    Retorna aproximacion numérica de\n",
        "\n",
        "        x(t+h) : R^n\n",
        "\n",
        "    según el método de Runge-Kutta de orden 4.\n",
        "\n",
        "    # Ejemplos:\n",
        "    \"\"\"\n",
        "    k1 = f(x,t,p)\n",
        "    k2 = f(x+0.5*h*k1,t+0.5*h,p)\n",
        "    k3 = f(x+0.5*h*k2,t+0.5*h,p)\n",
        "    k4 = f(x+h*k3,t+h,p)\n",
        "    return x+h*(k1+2.0*k2+2.0*k3+k4)/6.0\n",
        "\n",
        "def integrador_ode(m,f,xa,a,b,k,p,c=lambda x,t,p:x):\n",
        "    \"\"\"\n",
        "    Integra numéricamente la ODE\n",
        "\n",
        "        dx/dt = f(x,t)\n",
        "\n",
        "    sobre el intervalo t:[a,b] usando k pasos de integración y el método m, bajo condicion inicial x(a)=x0.\n",
        "    No es necesario que a<b.\n",
        "\n",
        "    Argumentos de entrada:\n",
        "\n",
        "        m = metodo de integracion (ej. euler, rk2, etc.)\n",
        "        f : R^n -> R^n\n",
        "        xa = condicion inicial : R\n",
        "        a = tiempo inicial : R\n",
        "        b = tiempo final : R\n",
        "        k = num. pasos de integracion : N\n",
        "        p = parametros : R^q\n",
        "        c = función condicionante : R^n,R,p -> R^n\n",
        "\n",
        "    Retorna:\n",
        "\n",
        "        t : R^{k+1} , t_j = a+j*h para j=0,1,...,k\n",
        "        w : R^{n,k+1} , w_ij = x_i(t_j) para i=0,1,...,n-1 y j=0,1,...,k\n",
        "\n",
        "    donde a+k*dt = b.\n",
        "    \"\"\"\n",
        "    assert k>0\n",
        "    n = len(xa)\n",
        "    h = (b-a)/k\n",
        "    w = np.zeros((n,k+1)) # Produce un array con forma y tipo especificada con los parametros,\n",
        "                          # lleno de ceros. la forma puede ser espcificada con un entero o tupla (n,k+1)\n",
        "    t = np.zeros(k+1)\n",
        "    w[:,0] = xa           # actualiza la posicion inicial (columna de indice 0) de las variables con los valores\n",
        "                          # de las condiciones iniciales\n",
        "    t[0] = a              # actualiza la posicion cero con el valor del tiempo inicial\n",
        "\n",
        "    for j in range(k):    #Aca se produce la iteración en j\n",
        "\n",
        "        t[j+1] = t[j] + h                # iteracion tiempo\n",
        "        w[:,j+1] = m(f,w[:,j],t[j],h,p)  # iteracion de w\n",
        "        w[:,j+1] = c(w[:,j+1],t[j+1],p)  # condicion sobre w\n",
        "\n",
        "    return t,w"
      ],
      "metadata": {
        "id": "DfiHRL4a6pSY"
      },
      "execution_count": null,
      "outputs": []
    },
    {
      "cell_type": "markdown",
      "source": [
        "## Ejercicio 2)\n",
        "\n",
        "Considere el sistema de Ecuaciones Diferenciales Ordinarias de Lorenz\n",
        "\n",
        "\\begin{eqnarray}\n",
        "\\frac{dx}{dt} & = & s(y-x) \\\\\n",
        "\\frac{dy}{dt} & = & rx-y-xz \\\\\n",
        "\\frac{dz}{dt} & = & xy-bz\n",
        "\\end{eqnarray}\n",
        "\n",
        "Sea $p=(s,r,b)$ el vector de parámetros.\n",
        "\n",
        "**1)**\n",
        "Usando el método de Runge-Kutta de orden 4, resuelva la ODE para las siguientes elecciones de las condiciones iniciales, de los parámetros y del intervalo de tiempo de integración:\n",
        "\n",
        "&nbsp; &nbsp; **i)** $(x(0),y(0),z(0))=(1,0.5,0.1)$, $p=(10,0.5,8/3)$ y $t\\in [0,10]$.\n",
        "\n",
        "&nbsp; &nbsp; **ii)** $(x(0),y(0),z(0))=(1,0.5,0.1)$, $p=(10,10,8/3)$ y $t\\in [0,20]$.\n",
        "\n",
        "&nbsp; &nbsp; **iii)** $(x(0),y(0),z(0))=(1,0.5,0.1)$, $p=(10,28,8/3)$ y $t\\in [0,50]$\n",
        "\n",
        "**2)** Para cada caso calculado en el inciso **1)**, grafique, en un mismo gráfico, las curvas en función del tiempo $x(t)$ vs $t$, $y(t)$ vs $t$ y $z(t)$ vs $t$.\n",
        "\n",
        "**3)**\n",
        "Para cada caso calculado en el inciso **1)**, grafique paramétricamente en función del tiempo, y en 3 dimensiones, el vector que describe la trayectoria de la solución, i.e. grafique $(x(t),y(t),z(t))$ vs $t$."
      ],
      "metadata": {
        "id": "R0Je9EQk8LGC"
      }
    },
    {
      "cell_type": "code",
      "source": [
        "# 2.1)"
      ],
      "metadata": {
        "id": "22CRkBMIBdXa"
      },
      "execution_count": null,
      "outputs": []
    },
    {
      "cell_type": "markdown",
      "source": [
        "## Ejercicio 3)\n",
        "\n",
        "**1)** Repita el caso **1.iii)** del ejercicio **2)**, para $t\\in [0,300]$, y eliminando el transiente que se observa antes de \"converger\" al atractor.\n",
        "\n",
        "**2)** Identifique los máximos locales de la curva $z(t)$ obtenida en el inciso **1)**, y enumérelos como $z_1,z_2,...,z_i,...,z_n$.\n",
        "\n",
        "**3)** Grafique $z_{i+1}$ vs $z_i$ para todo $i\\in\\{1,2,...,n-1\\}$."
      ],
      "metadata": {
        "id": "VKGKxY-zBl6W"
      }
    },
    {
      "cell_type": "code",
      "source": [
        "# 3.1)"
      ],
      "metadata": {
        "id": "HuqBvp0ECDxx"
      },
      "execution_count": null,
      "outputs": []
    },
    {
      "cell_type": "markdown",
      "source": [
        "## Ejercicio 4)\n",
        "\n",
        "**1)** Con la intención de imitar un set de datos, agregue ruido Gaussiano de varianza $\\sigma^2=1$ a la curva $z(t)$ vs $t$ generada en el inciso **1)** del ejercicio **3)**. Llamaremos a esta nueva curva $\\tilde{z}(t)$ vs $t$. Grafíquela.\n",
        "\n",
        "**2)** Utilice algún algoritmo de suavizado de curvas (ver función `savgol_filter` de la librería `scipy.signal`) para suavizar $\\tilde{z}(t)$ vs $t$. Llame $\\hat{z}(t)$ vs $t$ a la curva suavizada.\n",
        "\n",
        "**3)** Utilice la curva suavizada del inciso **2)** para identificar los tiempos $\\hat{t}_1$,$\\hat{t}_2$,...,$\\hat{t}_n$ en los cuales ocurre los máximos locales $\\hat{z}_1=\\hat{z}(\\hat{t}_1)$, $\\hat{z}_2=\\hat{z}(\\hat{t}_2)$, ...,$\\hat{z}_n=\\hat{z}(\\hat{t}_n)$ correspondientes.\n",
        "\n",
        "Calcule además los valores de la curva sin suavizar en dichos tiempos, i.e. calcule $\\tilde{z}_1=\\tilde{z}(\\hat{t_1})$, $\\tilde{z}_2=\\tilde{z}(\\hat{t_2})$, ..., $\\tilde{z}_n=\\tilde{z}(\\hat{t_n})$.\n",
        "\n",
        "**4)** Grafique la curva suavizada $\\tilde{z}(t)$ vs $t$.\n",
        "\n",
        "Agregue al gráfico los máximos $(\\tilde{z}_i,\\hat{t}_i)$ con puntos azules, y los máximos $(\\hat{z}_i,\\hat{t}_i)$ con puntos rojos.\n",
        "\n",
        "Que observa?\n",
        "\n",
        "**5)** Grafique $\\tilde{z}_{i+1}$ vs $\\tilde{z}_i$ para todo $i\\in\\{1,2,...,n-1\\}$.\n",
        "\n",
        "**6)** Grafique $\\hat{z}_{i+1}$ vs $\\hat{z}_i$ para todo $i\\in\\{1,2,...,n-1\\}$.\n",
        "\n",
        "**7)** Comparando los resultados de los incisos **5)** y **6)** con los del gráfico del inciso **3)** del ejercicio **3)**.\n",
        "\n",
        "Discuta y comente."
      ],
      "metadata": {
        "id": "EgIPN36ECEBL"
      }
    },
    {
      "cell_type": "code",
      "source": [
        "# 4.1)"
      ],
      "metadata": {
        "id": "chtItPstCawk"
      },
      "execution_count": null,
      "outputs": []
    },
    {
      "cell_type": "code",
      "source": [
        "# 4.7)"
      ],
      "metadata": {
        "id": "hs4jO40IOP4_"
      },
      "execution_count": null,
      "outputs": []
    },
    {
      "cell_type": "markdown",
      "source": [
        "**Discusión:** Bla bla bla..."
      ],
      "metadata": {
        "id": "6hqksceUORI2"
      }
    }
  ]
}