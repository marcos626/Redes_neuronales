{
 "cells": [
  {
   "cell_type": "markdown",
   "metadata": {
    "id": "view-in-github"
   },
   "source": [
    "<a href=\"https://colab.research.google.com/gist/marcos626/20dd5142a53aa62b1d75ff99a6657693/redes-neuronales-2024-guia-3.ipynb\" target=\"_parent\"><img src=\"https://colab.research.google.com/assets/colab-badge.svg\" alt=\"Open In Colab\"/></a>"
   ]
  },
  {
   "cell_type": "markdown",
   "metadata": {
    "id": "NRYEofSD0xoF"
   },
   "source": [
    "# Algebra lineal con **SciPy**\n",
    "\n",
    "Referencias:\n",
    "\n",
    "* https://docs.scipy.org/doc/scipy/reference/linalg.html\n",
    "* https://www.datacamp.com/cheat-sheet/scipy-cheat-sheet-linear-algebra-in-python\n",
    "\n",
    "## **Ejercicio 1)** Importando librerías\n",
    "\n",
    "Importe las librerías `numpy` para operar con arrays, `scipy` para utilizar rutinas de algebra lineal y `matplotlib.pyplot` para graficar."
   ]
  },
  {
   "cell_type": "code",
   "execution_count": 2,
   "metadata": {
    "executionInfo": {
     "elapsed": 820,
     "status": "ok",
     "timestamp": 1729589897196,
     "user": {
      "displayName": "Marcos Santillan",
      "userId": "13008565452722238473"
     },
     "user_tz": 180
    },
    "id": "I8N3D_nU1_oT"
   },
   "outputs": [],
   "source": [
    "import numpy as np\n",
    "import scipy as sp\n",
    "import scipy.linalg as linalg\n",
    "import matplotlib.pyplot as plt"
   ]
  },
  {
   "cell_type": "markdown",
   "metadata": {
    "id": "NcaGEHAd10sb"
   },
   "source": [
    "## **Ejercicio 2)** Inversa de una matriz\n",
    "\n",
    "Referencias:\n",
    "\n",
    "* https://docs.scipy.org/doc/scipy/reference/generated/scipy.linalg.inv.html#scipy.linalg.inv\n",
    "\n",
    "**2.1)** Use `linalg.inv()` para calcular la inversa $A^{-1}$ de la matriz\n",
    "\n",
    "\\begin{equation}\n",
    "A = \\bigg(\n",
    "\\begin{array}{cc}\n",
    "1 & 2 \\\\\n",
    "3 & 4\n",
    "\\end{array}\n",
    "\\bigg)\n",
    "\\end{equation}"
   ]
  },
  {
   "cell_type": "code",
   "execution_count": 5,
   "metadata": {
    "colab": {
     "base_uri": "https://localhost:8080/"
    },
    "executionInfo": {
     "elapsed": 6,
     "status": "ok",
     "timestamp": 1726915862013,
     "user": {
      "displayName": "Marcos Santillan",
      "userId": "13008565452722238473"
     },
     "user_tz": 180
    },
    "id": "tntEwNvE4SZC",
    "outputId": "11a6e5ac-cc3d-4877-c523-4d88ed32e9df"
   },
   "outputs": [
    {
     "name": "stdout",
     "output_type": "stream",
     "text": [
      "[[-2.   1. ]\n",
      " [ 1.5 -0.5]]\n"
     ]
    }
   ],
   "source": [
    "# 2.1)\n",
    "A = np.array([[1,2],[3,4]])\n",
    "iA = linalg.inv(A)\n",
    "print(iA)"
   ]
  },
  {
   "cell_type": "markdown",
   "metadata": {
    "id": "5sQQzoLgKunv"
   },
   "source": [
    "**2.2)** Use `np.dot()` para chequear que $A^{-1}A \\approx \\mathbb{I}$, donde $\\mathbb{I}$ es la matriz identidad.  \n",
    "\n",
    "np.dot() es el producto punto  \n",
    "Res = A @ B  # Equivalente a Res = np.dot(A, B)  \n",
    "NumPy también ofrece alternativas como:  \n",
    "\n",
    "numpy.matmul(): Específica para multiplicación de matrices  \n",
    "numpy.inner(): Producto interno  \n",
    "numpy.outer(): Producto exterior  \n"
   ]
  },
  {
   "cell_type": "code",
   "execution_count": 8,
   "metadata": {
    "colab": {
     "base_uri": "https://localhost:8080/"
    },
    "executionInfo": {
     "elapsed": 503,
     "status": "ok",
     "timestamp": 1726915862513,
     "user": {
      "displayName": "Marcos Santillan",
      "userId": "13008565452722238473"
     },
     "user_tz": 180
    },
    "id": "FeCEmMXCUqSV",
    "outputId": "de5df591-4f0f-4beb-db9c-2e9ec54da472"
   },
   "outputs": [
    {
     "data": {
      "text/plain": [
       "array([[1.00000000e+00, 0.00000000e+00],\n",
       "       [2.22044605e-16, 1.00000000e+00]])"
      ]
     },
     "execution_count": 8,
     "metadata": {},
     "output_type": "execute_result"
    }
   ],
   "source": [
    "# 2.2)\n",
    "np.dot(iA,A)"
   ]
  },
  {
   "cell_type": "markdown",
   "metadata": {
    "id": "Sf1NHcCnK4Qr"
   },
   "source": [
    "**2.3)** Chequee que $AA^{-1} \\approx \\mathbb{I}$."
   ]
  },
  {
   "cell_type": "code",
   "execution_count": 11,
   "metadata": {
    "colab": {
     "base_uri": "https://localhost:8080/"
    },
    "executionInfo": {
     "elapsed": 52,
     "status": "ok",
     "timestamp": 1726915862514,
     "user": {
      "displayName": "Marcos Santillan",
      "userId": "13008565452722238473"
     },
     "user_tz": 180
    },
    "id": "fCdpkQsuUyiM",
    "outputId": "1cd1b104-cbd2-4fb9-9e9d-7491f9af3831"
   },
   "outputs": [
    {
     "data": {
      "text/plain": [
       "array([[1.0000000e+00, 0.0000000e+00],\n",
       "       [8.8817842e-16, 1.0000000e+00]])"
      ]
     },
     "execution_count": 11,
     "metadata": {},
     "output_type": "execute_result"
    }
   ],
   "source": [
    "# 2.3)\n",
    "np.dot(A,iA)"
   ]
  },
  {
   "cell_type": "markdown",
   "metadata": {
    "id": "4pp5DryY2azA"
   },
   "source": [
    "## **Ejercicio 3)** Sistema de ecuaciones lineales\n",
    "\n",
    "Referencias:\n",
    "\n",
    "* https://docs.scipy.org/doc/scipy/reference/generated/scipy.linalg.solve.html#scipy.linalg.solve\n",
    "\n",
    "**3.1)** Use `linalg.solve()` para resolver el sistema $Ax=b$ donde, $x$ es la incógnita,\n",
    "\n",
    "\\begin{equation}\n",
    "A = \\left(\n",
    "\\begin{array}{cc}\n",
    "3 & 2 & 0 \\\\\n",
    "1 & -1 & 0 \\\\\n",
    "0 & 5 & 1\n",
    "\\end{array}\n",
    "\\right)\n",
    "\\end{equation}\n",
    "\n",
    "y\n",
    "\n",
    "\\begin{equation}\n",
    "b = \\left(\n",
    "\\begin{array}{cc}\n",
    "2 \\\\\n",
    "4 \\\\\n",
    "1\n",
    "\\end{array}\n",
    "\\right)\n",
    "\\end{equation}"
   ]
  },
  {
   "cell_type": "code",
   "execution_count": 14,
   "metadata": {
    "colab": {
     "base_uri": "https://localhost:8080/"
    },
    "executionInfo": {
     "elapsed": 321,
     "status": "ok",
     "timestamp": 1729590888951,
     "user": {
      "displayName": "Marcos Santillan",
      "userId": "13008565452722238473"
     },
     "user_tz": 180
    },
    "id": "PshUolMT2ZtI",
    "outputId": "706b1ca5-282d-455d-8269-b3b67a7de299"
   },
   "outputs": [
    {
     "data": {
      "text/plain": [
       "array([[ 3,  2,  0],\n",
       "       [ 1, -1,  0],\n",
       "       [ 0,  5,  1]])"
      ]
     },
     "execution_count": 14,
     "metadata": {},
     "output_type": "execute_result"
    }
   ],
   "source": [
    "# 3.1)\n",
    "A = np.array([[3,2,0],\n",
    "              [1,-1,0],\n",
    "              [0,5,1] ])\n",
    "A"
   ]
  },
  {
   "cell_type": "code",
   "execution_count": 16,
   "metadata": {
    "colab": {
     "base_uri": "https://localhost:8080/"
    },
    "executionInfo": {
     "elapsed": 322,
     "status": "ok",
     "timestamp": 1729590995605,
     "user": {
      "displayName": "Marcos Santillan",
      "userId": "13008565452722238473"
     },
     "user_tz": 180
    },
    "id": "YXHgLCKRWJj7",
    "outputId": "26978963-239a-4838-957d-aceab14eb93c"
   },
   "outputs": [
    {
     "data": {
      "text/plain": [
       "array([2, 4, 1])"
      ]
     },
     "execution_count": 16,
     "metadata": {},
     "output_type": "execute_result"
    }
   ],
   "source": [
    "b = np.array([2,4,1])\n",
    "b"
   ]
  },
  {
   "cell_type": "code",
   "execution_count": 18,
   "metadata": {
    "colab": {
     "base_uri": "https://localhost:8080/"
    },
    "executionInfo": {
     "elapsed": 280,
     "status": "ok",
     "timestamp": 1729590998555,
     "user": {
      "displayName": "Marcos Santillan",
      "userId": "13008565452722238473"
     },
     "user_tz": 180
    },
    "id": "CUc367bhWMCn",
    "outputId": "4b82a739-d530-48d5-977e-561db0dc4a90"
   },
   "outputs": [
    {
     "data": {
      "text/plain": [
       "array([ 2., -2., 11.])"
      ]
     },
     "execution_count": 18,
     "metadata": {},
     "output_type": "execute_result"
    }
   ],
   "source": [
    "x = linalg.solve(A,b)\n",
    "x"
   ]
  },
  {
   "cell_type": "markdown",
   "metadata": {
    "id": "_Rc76YGsn6zd"
   },
   "source": [
    "**3.2)** Chequee que $Ax=b$."
   ]
  },
  {
   "cell_type": "code",
   "execution_count": 21,
   "metadata": {
    "colab": {
     "base_uri": "https://localhost:8080/"
    },
    "executionInfo": {
     "elapsed": 360,
     "status": "ok",
     "timestamp": 1729591002966,
     "user": {
      "displayName": "Marcos Santillan",
      "userId": "13008565452722238473"
     },
     "user_tz": 180
    },
    "id": "bTlwTyOjonaV",
    "outputId": "7db40215-eeba-404e-a590-09c457460cb2"
   },
   "outputs": [
    {
     "name": "stdout",
     "output_type": "stream",
     "text": [
      "\n",
      "Verificación A*x = [2. 4. 1.]\n",
      "Vector b original = [2 4 1]\n",
      "¿La solución es correcta? True\n"
     ]
    }
   ],
   "source": [
    "# Verificar la solución multiplicando A*x\n",
    "verificacion = np.dot(A, x)\n",
    "print(\"\\nVerificación A*x =\", verificacion)\n",
    "print(\"Vector b original =\", b)\n",
    "print(\"¿La solución es correcta?\", np.allclose(np.dot(A, x), b))"
   ]
  },
  {
   "cell_type": "markdown",
   "metadata": {
    "id": "YS7bf2SJ2nws"
   },
   "source": [
    "## **Ejercicio 4)** Cuadrados mínimos\n",
    "\n",
    "Dada una matriz $X$ de dimensiones $n\\times m$ y un vector $y$ de dimensión $n$, la función `linalg.lstsq(X,y,...)` se usa para encontrar el vector $y$ de dimensión $m$ que minimize la norma L2 $|y-Xc|$. Notar que minimizar esta cantidad no necesariamente implica que $Xc=y$. Minimizar $|y-Xc|$ es útil para infinidad de problemas. En particular, es útil para ajustar polinomios a datos.\n",
    "\n",
    "Referencias:\n",
    "\n",
    "* https://docs.scipy.org/doc/scipy/reference/generated/scipy.linalg.lstsq.html#scipy.linalg.lstsq\n",
    "\n",
    "**1)** Use `linalg.lstsq(X,y)` para encontrar los coeficientes $c_0$, $c_1$ y $c_2$ del polinomio $p(x)=c_0+c_1x+c_2x^2$ que ajuste lo mejor posible los siguientes datos\n",
    "\n",
    "    x = np.array([1.0, 2.5, 3.5, 4.0, 5.0, 7.0, 8.5])\n",
    "    y = np.array([0.3, 1.1, 1.5, 2.0, 3.2, 6.6, 8.6])\n",
    "\n",
    "de acuerdo al método de cuadrados mínimos\n",
    "\n",
    "\\begin{align}\n",
    "\\min_{c_0,c_1,c_2} \\sum_i (y_i-p(x_i))^2\n",
    "\\end{align}\n",
    "\n",
    "**Ayuda:** Utilizar la matriz $X$ de entradas $X_{ij}=x_i^j$, i.e. la $j$-ésima potencia de $x_i$.\n",
    "\n",
    "**2)** Con el fin de evaluar la bondad del ajuste, grafique en una misma figura:\n",
    "\n",
    "* con símbolos los datos y\n",
    "* con una curva el polinomio ajustado."
   ]
  },
  {
   "cell_type": "code",
   "execution_count": 24,
   "metadata": {
    "id": "EQXxlhEM2k8s"
   },
   "outputs": [],
   "source": [
    "# 4.1)\n",
    "x = np.array([1.0, 2.5, 3.5, 4.0, 5.0, 7.0, 8.5])\n",
    "y = np.array([0.3, 1.1, 1.5, 2.0, 3.2, 6.6, 8.6])"
   ]
  },
  {
   "cell_type": "code",
   "execution_count": 26,
   "metadata": {
    "colab": {
     "base_uri": "https://localhost:8080/"
    },
    "executionInfo": {
     "elapsed": 36,
     "status": "ok",
     "timestamp": 1726915862515,
     "user": {
      "displayName": "Marcos Santillan",
      "userId": "13008565452722238473"
     },
     "user_tz": 180
    },
    "id": "lO4TkFJDYJ-s",
    "outputId": "f0ad5aee-d308-46fd-b5fe-e14a2540474b"
   },
   "outputs": [
    {
     "data": {
      "text/plain": [
       "array([[ 1.  ,  1.  ,  1.  ],\n",
       "       [ 1.  ,  2.5 ,  6.25],\n",
       "       [ 1.  ,  3.5 , 12.25],\n",
       "       [ 1.  ,  4.  , 16.  ],\n",
       "       [ 1.  ,  5.  , 25.  ],\n",
       "       [ 1.  ,  7.  , 49.  ],\n",
       "       [ 1.  ,  8.5 , 72.25]])"
      ]
     },
     "execution_count": 26,
     "metadata": {},
     "output_type": "execute_result"
    }
   ],
   "source": [
    "X = np.row_stack([x[:]**i for i in range(3)]).T\n",
    "X"
   ]
  },
  {
   "cell_type": "code",
   "execution_count": 28,
   "metadata": {
    "colab": {
     "base_uri": "https://localhost:8080/"
    },
    "executionInfo": {
     "elapsed": 34,
     "status": "ok",
     "timestamp": 1726915862516,
     "user": {
      "displayName": "Marcos Santillan",
      "userId": "13008565452722238473"
     },
     "user_tz": 180
    },
    "id": "eXCaOO3dY6zX",
    "outputId": "e9a307b9-46d1-404a-bd41-a0b453f62dda"
   },
   "outputs": [
    {
     "data": {
      "text/plain": [
       "(array([0.0578403 , 0.07701453, 0.11262261]),\n",
       " 0.3954624919193898,\n",
       " 3,\n",
       " array([94.14628205,  4.12516865,  0.63091939]))"
      ]
     },
     "execution_count": 28,
     "metadata": {},
     "output_type": "execute_result"
    }
   ],
   "source": [
    "c, res, rng, sng = linalg.lstsq(X,y)\n",
    "c,res,rng,sng\n"
   ]
  },
  {
   "cell_type": "markdown",
   "metadata": {
    "id": "Siuu1AyTP_cF"
   },
   "source": [
    "## **Ejercicio 5)** pseudo-inversa de Moore-Penrose de una matriz\n",
    "\n",
    "La pseudo-inversa de Moore-Penrose es una generalización de la noción de inversa, que resulta útil porque existe para cualquier matriz de dimensiones y entradas arbitrarias sobre los números reales o complejos.\n",
    "\n",
    "Si una matriz $A$ es invertible (y por ende cuadrada), existe una matriz $B$ tal $AB=BA=\\mathbb{I}$. Dicha matríz $B$ es única (para la $A$ dada) y, por ende, se la denota por $A^{-1}$ y se la denomina inversa de $A$.\n",
    "\n",
    "Si $A$ no es invertible, luego no existe una matriz $B$ para la cual se cumpla la primera condición $AB=BA=\\mathbb{I}$. Sin embargo, se puede ver que siempre existe una matriz $B$ para la cual se cumple $ABA = A$ y $BAB=B$. Dicha matriz $B$ es única (para la $A$ dada) y, por ende, se la denota por $A^+$ y se la denomina matríz pseudo-inversa de Moore-Penrose de $A$.\n",
    "\n",
    "Referencias:\n",
    "\n",
    "* https://en.wikipedia.org/wiki/Moore%E2%80%93Penrose_inverse\n",
    "* https://docs.scipy.org/doc/scipy/reference/generated/scipy.linalg.pinv.html#scipy.linalg.pinv\n",
    "\n",
    "**5.1)** Cree una matriz $A$ de dimensiones $n\\times m$ con $n=9$ y $m=6$ de números aleatorios generados a partir de la distribución normal de media 0 y varianza 1."
   ]
  },
  {
   "cell_type": "code",
   "execution_count": 61,
   "metadata": {
    "id": "j139zRcL44_O"
   },
   "outputs": [],
   "source": [
    "# 5.1)\n",
    "A = np.random.randn(9,6)"
   ]
  },
  {
   "cell_type": "markdown",
   "metadata": {},
   "source": [
    "**5.2)** Use `linalg.pinv()` para computar la psuedo-inversa de Moore-Penrose $A^+$ de $A$."
   ]
  },
  {
   "cell_type": "code",
   "execution_count": 59,
   "metadata": {},
   "outputs": [],
   "source": [
    "Aplus = linalg.pinv(A)"
   ]
  },
  {
   "cell_type": "markdown",
   "metadata": {},
   "source": [
    "**5.3)** Que dimensiones tiene $A^+$?"
   ]
  },
  {
   "cell_type": "code",
   "execution_count": 57,
   "metadata": {},
   "outputs": [
    {
     "data": {
      "text/plain": [
       "(6, 9)"
      ]
     },
     "execution_count": 57,
     "metadata": {},
     "output_type": "execute_result"
    }
   ],
   "source": [
    "Aplus.shape"
   ]
  },
  {
   "cell_type": "markdown",
   "metadata": {},
   "source": [
    "**5.4)** Use `np.allclose()` para verifique que $AA^+A\\approx A$."
   ]
  },
  {
   "cell_type": "code",
   "execution_count": 76,
   "metadata": {},
   "outputs": [
    {
     "ename": "ValueError",
     "evalue": "operands could not be broadcast together with shapes (6,9) (9,6) ",
     "output_type": "error",
     "traceback": [
      "\u001b[1;31m---------------------------------------------------------------------------\u001b[0m",
      "\u001b[1;31mValueError\u001b[0m                                Traceback (most recent call last)",
      "Cell \u001b[1;32mIn[76], line 1\u001b[0m\n\u001b[1;32m----> 1\u001b[0m \u001b[43mnp\u001b[49m\u001b[38;5;241;43m.\u001b[39;49m\u001b[43mallclose\u001b[49m\u001b[43m(\u001b[49m\u001b[43mAplus\u001b[49m\u001b[43m,\u001b[49m\u001b[43m \u001b[49m\u001b[43mA\u001b[49m\u001b[43m)\u001b[49m\n",
      "File \u001b[1;32m~\\anaconda3\\Lib\\site-packages\\numpy\\core\\numeric.py:2241\u001b[0m, in \u001b[0;36mallclose\u001b[1;34m(a, b, rtol, atol, equal_nan)\u001b[0m\n\u001b[0;32m   2170\u001b[0m \u001b[38;5;129m@array_function_dispatch\u001b[39m(_allclose_dispatcher)\n\u001b[0;32m   2171\u001b[0m \u001b[38;5;28;01mdef\u001b[39;00m \u001b[38;5;21mallclose\u001b[39m(a, b, rtol\u001b[38;5;241m=\u001b[39m\u001b[38;5;241m1.e-5\u001b[39m, atol\u001b[38;5;241m=\u001b[39m\u001b[38;5;241m1.e-8\u001b[39m, equal_nan\u001b[38;5;241m=\u001b[39m\u001b[38;5;28;01mFalse\u001b[39;00m):\n\u001b[0;32m   2172\u001b[0m \u001b[38;5;250m    \u001b[39m\u001b[38;5;124;03m\"\"\"\u001b[39;00m\n\u001b[0;32m   2173\u001b[0m \u001b[38;5;124;03m    Returns True if two arrays are element-wise equal within a tolerance.\u001b[39;00m\n\u001b[0;32m   2174\u001b[0m \n\u001b[1;32m   (...)\u001b[0m\n\u001b[0;32m   2239\u001b[0m \n\u001b[0;32m   2240\u001b[0m \u001b[38;5;124;03m    \"\"\"\u001b[39;00m\n\u001b[1;32m-> 2241\u001b[0m     res \u001b[38;5;241m=\u001b[39m \u001b[38;5;28mall\u001b[39m(\u001b[43misclose\u001b[49m\u001b[43m(\u001b[49m\u001b[43ma\u001b[49m\u001b[43m,\u001b[49m\u001b[43m \u001b[49m\u001b[43mb\u001b[49m\u001b[43m,\u001b[49m\u001b[43m \u001b[49m\u001b[43mrtol\u001b[49m\u001b[38;5;241;43m=\u001b[39;49m\u001b[43mrtol\u001b[49m\u001b[43m,\u001b[49m\u001b[43m \u001b[49m\u001b[43matol\u001b[49m\u001b[38;5;241;43m=\u001b[39;49m\u001b[43matol\u001b[49m\u001b[43m,\u001b[49m\u001b[43m \u001b[49m\u001b[43mequal_nan\u001b[49m\u001b[38;5;241;43m=\u001b[39;49m\u001b[43mequal_nan\u001b[49m\u001b[43m)\u001b[49m)\n\u001b[0;32m   2242\u001b[0m     \u001b[38;5;28;01mreturn\u001b[39;00m \u001b[38;5;28mbool\u001b[39m(res)\n",
      "File \u001b[1;32m~\\anaconda3\\Lib\\site-packages\\numpy\\core\\numeric.py:2351\u001b[0m, in \u001b[0;36misclose\u001b[1;34m(a, b, rtol, atol, equal_nan)\u001b[0m\n\u001b[0;32m   2349\u001b[0m yfin \u001b[38;5;241m=\u001b[39m isfinite(y)\n\u001b[0;32m   2350\u001b[0m \u001b[38;5;28;01mif\u001b[39;00m \u001b[38;5;28mall\u001b[39m(xfin) \u001b[38;5;129;01mand\u001b[39;00m \u001b[38;5;28mall\u001b[39m(yfin):\n\u001b[1;32m-> 2351\u001b[0m     \u001b[38;5;28;01mreturn\u001b[39;00m \u001b[43mwithin_tol\u001b[49m\u001b[43m(\u001b[49m\u001b[43mx\u001b[49m\u001b[43m,\u001b[49m\u001b[43m \u001b[49m\u001b[43my\u001b[49m\u001b[43m,\u001b[49m\u001b[43m \u001b[49m\u001b[43matol\u001b[49m\u001b[43m,\u001b[49m\u001b[43m \u001b[49m\u001b[43mrtol\u001b[49m\u001b[43m)\u001b[49m\n\u001b[0;32m   2352\u001b[0m \u001b[38;5;28;01melse\u001b[39;00m:\n\u001b[0;32m   2353\u001b[0m     finite \u001b[38;5;241m=\u001b[39m xfin \u001b[38;5;241m&\u001b[39m yfin\n",
      "File \u001b[1;32m~\\anaconda3\\Lib\\site-packages\\numpy\\core\\numeric.py:2332\u001b[0m, in \u001b[0;36misclose.<locals>.within_tol\u001b[1;34m(x, y, atol, rtol)\u001b[0m\n\u001b[0;32m   2330\u001b[0m \u001b[38;5;28;01mdef\u001b[39;00m \u001b[38;5;21mwithin_tol\u001b[39m(x, y, atol, rtol):\n\u001b[0;32m   2331\u001b[0m     \u001b[38;5;28;01mwith\u001b[39;00m errstate(invalid\u001b[38;5;241m=\u001b[39m\u001b[38;5;124m'\u001b[39m\u001b[38;5;124mignore\u001b[39m\u001b[38;5;124m'\u001b[39m), _no_nep50_warning():\n\u001b[1;32m-> 2332\u001b[0m         \u001b[38;5;28;01mreturn\u001b[39;00m less_equal(\u001b[38;5;28mabs\u001b[39m(\u001b[43mx\u001b[49m\u001b[38;5;241;43m-\u001b[39;49m\u001b[43my\u001b[49m), atol \u001b[38;5;241m+\u001b[39m rtol \u001b[38;5;241m*\u001b[39m \u001b[38;5;28mabs\u001b[39m(y))\n",
      "\u001b[1;31mValueError\u001b[0m: operands could not be broadcast together with shapes (6,9) (9,6) "
     ]
    }
   ],
   "source": [
    "np.allclose(Aplus, A)"
   ]
  },
  {
   "cell_type": "markdown",
   "metadata": {},
   "source": [
    "**5.5)** Verifique que $A^+AA^+\\approx A^+$."
   ]
  },
  {
   "cell_type": "code",
   "execution_count": null,
   "metadata": {},
   "outputs": [],
   "source": []
  },
  {
   "cell_type": "markdown",
   "metadata": {
    "id": "lmq42jPWWvY0"
   },
   "source": [
    "## **Ejercicio 6)** Producto de Kronecker\n",
    "\n",
    "Considere las matrices\n",
    "\n",
    "\\begin{equation}\n",
    "A = \\left(\n",
    "\\begin{array}{cc}\n",
    "A_{11} & \\dots & A_{1m} \\\\\n",
    "\\vdots & \\ddots & \\vdots \\\\\n",
    "A_{nm} & \\dots & A_{nm}\n",
    "\\end{array}\n",
    "\\right)\n",
    "\\end{equation}\n",
    "\n",
    "y\n",
    "\n",
    "\\begin{equation}\n",
    "B = \\left(\n",
    "\\begin{array}{cc}\n",
    "B_{11} & \\dots & B_{1s} \\\\\n",
    "\\vdots & \\ddots & \\vdots \\\\\n",
    "B_{r1} & \\dots & B_{rs}\n",
    "\\end{array}\n",
    "\\right)\n",
    "\\end{equation}\n",
    "\n",
    "El producto de Kronecker es la matriz de dimensiones $nr\\times ms$ dada por\n",
    "\n",
    "\\begin{equation}\n",
    "A\\otimes B\n",
    "=\n",
    "\\left(\n",
    "\\begin{array}{cc}\n",
    "A_{11}B & \\dots & A_{1m}B \\\\\n",
    "\\vdots & \\ddots & \\vdots \\\\\n",
    "A_{n1}B & \\dots & A_{nm}B\n",
    "\\end{array}\n",
    "\\right)\n",
    "=\n",
    "\\left(\n",
    "\\begin{array}{cc}\n",
    "B_{11}A & \\dots & B_{1s}A \\\\\n",
    "\\vdots & \\ddots & \\vdots \\\\\n",
    "B_{r1}A & \\dots & B_{rs}A\n",
    "\\end{array}\n",
    "\\right)\n",
    "\\end{equation}\n",
    "\n",
    "donde $A_{ij}B$ es un bloque de la matriz $A\\otimes B$ igual al producto del escalar $A_{ij}$ por la matriz $B$.\n",
    "Idem para $B_{ij}A$.\n",
    "\n",
    "Referencias:\n",
    "\n",
    "* https://docs.scipy.org/doc/scipy/reference/generated/scipy.linalg.kron.html#scipy.linalg.kron\n",
    "\n",
    "**1)** Use `linalg.kron()` para calcular el producto de Kronecker de las matrices\n",
    "\n",
    "\\begin{equation}\n",
    "A = \\left(\n",
    "\\begin{array}{cc}\n",
    "1 & 2 \\\\\n",
    "3 & 4 \\\\\n",
    "\\end{array}\n",
    "\\right)\n",
    "\\end{equation}\n",
    "\n",
    "y\n",
    "\n",
    "\\begin{equation}\n",
    "B = \\left(\n",
    "\\begin{array}{cc}\n",
    "1 \\\\\n",
    "1 \\\\\n",
    "1 \\\\\n",
    "\\end{array}\n",
    "\\right)\n",
    "\\end{equation}\n",
    "\n",
    "Que dimensiones tiene $A\\otimes B$ en este caso?\n",
    "\n",
    "**2)** Repita para las matrices\n",
    "\n",
    "\\begin{equation}\n",
    "A = \\left(\n",
    "\\begin{array}{cc}\n",
    "1 & 2 \\\\\n",
    "3 & 4 \\\\\n",
    "\\end{array}\n",
    "\\right)\n",
    "\\end{equation}\n",
    "\n",
    "y\n",
    "\n",
    "\\begin{equation}\n",
    "B = \\left(\n",
    "\\begin{array}{cc}\n",
    "1 & 1 & 1\n",
    "\\end{array}\n",
    "\\right)\n",
    "\\end{equation}\n",
    "\n",
    "Que dimensiones tiene $A\\otimes B$ en este otro caso?"
   ]
  },
  {
   "cell_type": "code",
   "execution_count": 33,
   "metadata": {
    "colab": {
     "base_uri": "https://localhost:8080/"
    },
    "executionInfo": {
     "elapsed": 315,
     "status": "ok",
     "timestamp": 1726915955914,
     "user": {
      "displayName": "Marcos Santillan",
      "userId": "13008565452722238473"
     },
     "user_tz": 180
    },
    "id": "HMSSVY0-IMx_",
    "outputId": "ced04e72-cda5-4fc0-f3e4-d3772b122d5d"
   },
   "outputs": [
    {
     "data": {
      "text/plain": [
       "array([[1, 2],\n",
       "       [3, 4]])"
      ]
     },
     "execution_count": 33,
     "metadata": {},
     "output_type": "execute_result"
    }
   ],
   "source": [
    "# 6.1)\n",
    "A = np.array([[1,2],[3,4]])\n",
    "A\n"
   ]
  },
  {
   "cell_type": "code",
   "execution_count": 35,
   "metadata": {
    "colab": {
     "base_uri": "https://localhost:8080/"
    },
    "executionInfo": {
     "elapsed": 281,
     "status": "ok",
     "timestamp": 1726915958967,
     "user": {
      "displayName": "Marcos Santillan",
      "userId": "13008565452722238473"
     },
     "user_tz": 180
    },
    "id": "uqsNNPypbkQ4",
    "outputId": "3a244452-22ae-4445-9daa-e7f3a6490833"
   },
   "outputs": [
    {
     "data": {
      "text/plain": [
       "array([1, 1, 1])"
      ]
     },
     "execution_count": 35,
     "metadata": {},
     "output_type": "execute_result"
    }
   ],
   "source": [
    "B = np.array([1,1,1])\n",
    "B"
   ]
  },
  {
   "cell_type": "code",
   "execution_count": 37,
   "metadata": {
    "colab": {
     "base_uri": "https://localhost:8080/"
    },
    "executionInfo": {
     "elapsed": 267,
     "status": "ok",
     "timestamp": 1726915960773,
     "user": {
      "displayName": "Marcos Santillan",
      "userId": "13008565452722238473"
     },
     "user_tz": 180
    },
    "id": "jfgJImF5b4dv",
    "outputId": "0699a305-df68-4e43-97da-e3c4db95b5a6"
   },
   "outputs": [
    {
     "data": {
      "text/plain": [
       "array([[1, 1, 1, 2, 2, 2],\n",
       "       [3, 3, 3, 4, 4, 4]])"
      ]
     },
     "execution_count": 37,
     "metadata": {},
     "output_type": "execute_result"
    }
   ],
   "source": [
    "np.kron(A,B)"
   ]
  },
  {
   "cell_type": "markdown",
   "metadata": {
    "id": "2OsaX5tGJ3QD"
   },
   "source": [
    "## **Ejercicio 7)** Autovalores y autovectores\n",
    "\n",
    "Considere una matriz $A$ de $n\\times m$. Luego, existen un conjunto de escalares $\\{\\lambda_1,...,\\lambda_n\\}$ y un correspondiente conjunto de vectores distintos $\\{v_1,...,v_n\\}$ tales que\n",
    "\n",
    "\\begin{eqnarray}\n",
    "Av_i = \\lambda_i v_i \\;\\;\\;\\; (1)\n",
    "\\end{eqnarray}\n",
    "\n",
    "para todo $i\\in\\{1,...,n\\}$. Estos $\\lambda_i$ y $v_i$ se denominan autovalores y autovectores a derecha de $A$, respectivamente. Los autovalores pueden repetirse, pueden ser nulos y se los suele ordenar de mayor a menor en orden descendiente de sus valores absolutos: $|\\lambda_1|\\geq |\\lambda_2|\\geq ...\\geq |\\lambda_n|\\geq 0$. Los autovectores pueden normalizarse, ya que si $v_i$ es autovector, luego $v_i/|v_i|$ también lo es.\n",
    "\n",
    "Los autovectores constituyen una base del dominio de $A$. Esto es muy útil porque permite escribir cualquier vector $v$ en el dominio de $A$ como una combinación lineal de sus autovectores\n",
    "\n",
    "\\begin{eqnarray}\n",
    "v = \\sum_i c_i v_i\n",
    "\\end{eqnarray}\n",
    "\n",
    "Luego, calcular el producto de $A$ con $v$ resulta muy simple\n",
    "\n",
    "\\begin{eqnarray}\n",
    "Av = A\\left(\\sum_i c_i v_i\\right) = \\sum_i c_iAv_i = \\sum_i c_i\\lambda_iv_i\n",
    "\\end{eqnarray}\n",
    "\n",
    "Análogamente, existen un conjunto de escalares $\\{\\mu_1,...,\\mu_m\\}$ y un correspondiente conjunto de vectores diferentes $\\{u_1,...,u_m\\}$ de $A$, llamados autovalores y autovectores a izquierda de $A$, respectivamente, y son tales que\n",
    "\n",
    "\\begin{eqnarray}\n",
    "u_jA = \\mu_j u_j \\;\\;\\;\\; (2)\n",
    "\\end{eqnarray}\n",
    "\n",
    "para todo $j\\in\\{1,...,m\\}$.\n",
    "\n",
    "**7.1)** Use `linalg.eigvals()` para calcular los autovalores a derecha de la matriz\n",
    "\n",
    "\\begin{equation}\n",
    "A = \\left(\n",
    "\\begin{array}{cc}\n",
    "0 & -1 \\\\\n",
    "1 &  0\n",
    "\\end{array}\n",
    "\\right)\n",
    "\\end{equation}\n",
    "\n",
    "Referencias:\n",
    "\n",
    "* https://docs.scipy.org/doc/scipy/reference/generated/scipy.linalg.eig.html#scipy.linalg.eig\n"
   ]
  },
  {
   "cell_type": "code",
   "execution_count": 15,
   "metadata": {
    "colab": {
     "base_uri": "https://localhost:8080/"
    },
    "executionInfo": {
     "elapsed": 326,
     "status": "ok",
     "timestamp": 1729591210737,
     "user": {
      "displayName": "Marcos Santillan",
      "userId": "13008565452722238473"
     },
     "user_tz": 180
    },
    "id": "MmZ790fmKNQP",
    "outputId": "62691381-d0ef-4fbe-9cd8-e980e434299d"
   },
   "outputs": [
    {
     "data": {
      "text/plain": [
       "array([[ 0, -1],\n",
       "       [ 1,  0]])"
      ]
     },
     "execution_count": 15,
     "metadata": {},
     "output_type": "execute_result"
    }
   ],
   "source": [
    "# 7.1)\n",
    "A = np.array([[0,-1],[1,0]])\n",
    "A"
   ]
  },
  {
   "cell_type": "markdown",
   "metadata": {
    "id": "Hh3sK3hQL5XM"
   },
   "source": [
    "**7.2)** Use `linalg.eig()` para calcular los autovalores y los correspondientes autovectores a derecha de $A$."
   ]
  },
  {
   "cell_type": "code",
   "execution_count": 12,
   "metadata": {
    "colab": {
     "base_uri": "https://localhost:8080/"
    },
    "executionInfo": {
     "elapsed": 297,
     "status": "ok",
     "timestamp": 1729591156522,
     "user": {
      "displayName": "Marcos Santillan",
      "userId": "13008565452722238473"
     },
     "user_tz": 180
    },
    "id": "wsBgWd4pcE2D",
    "outputId": "f00e1c25-9e5e-4cbd-98fa-27e645a4316c"
   },
   "outputs": [
    {
     "data": {
      "text/plain": [
       "array([0.+1.j, 0.-1.j])"
      ]
     },
     "execution_count": 12,
     "metadata": {},
     "output_type": "execute_result"
    }
   ],
   "source": [
    "# 7.2)\n",
    "l = linalg.eigvals(A)\n",
    "l"
   ]
  },
  {
   "cell_type": "markdown",
   "metadata": {
    "id": "O7B7EYRNMEwc"
   },
   "source": [
    "**7.3)** Verifique que la ecuación\n",
    "$\\begin{eqnarray}\n",
    "Av_i = \\lambda_i v_i\n",
    "\\end{eqnarray}$ se cumple."
   ]
  },
  {
   "cell_type": "code",
   "execution_count": 13,
   "metadata": {
    "colab": {
     "base_uri": "https://localhost:8080/"
    },
    "executionInfo": {
     "elapsed": 307,
     "status": "ok",
     "timestamp": 1729591159325,
     "user": {
      "displayName": "Marcos Santillan",
      "userId": "13008565452722238473"
     },
     "user_tz": 180
    },
    "id": "5it6NRoScH-l",
    "outputId": "545f2b17-1013-4b7c-8afb-8d1fe815660d"
   },
   "outputs": [
    {
     "name": "stdout",
     "output_type": "stream",
     "text": [
      "[0.+1.j 0.-1.j]\n",
      "\n",
      "[[0.70710678+0.j         0.70710678-0.j        ]\n",
      " [0.        -0.70710678j 0.        +0.70710678j]]\n"
     ]
    }
   ],
   "source": [
    "# 7.3)\n",
    "w,v = linalg.eig(A)\n",
    "print(w)\n",
    "print()\n",
    "print(v)"
   ]
  },
  {
   "cell_type": "markdown",
   "metadata": {
    "id": "1mFrRJ4jNHe4"
   },
   "source": [
    "**7.4)** Use `linalg.eig()` para calcular los autovalores y los correspondientes autovectores a izquierda de $A$."
   ]
  },
  {
   "cell_type": "code",
   "execution_count": 14,
   "metadata": {
    "colab": {
     "base_uri": "https://localhost:8080/",
     "height": 211
    },
    "executionInfo": {
     "elapsed": 315,
     "status": "error",
     "timestamp": 1729591164230,
     "user": {
      "displayName": "Marcos Santillan",
      "userId": "13008565452722238473"
     },
     "user_tz": 180
    },
    "id": "RCC6IDYjcZUO",
    "outputId": "4e89c2fa-f491-427f-d39c-6012e80fcd48"
   },
   "outputs": [
    {
     "ename": "ValueError",
     "evalue": "too many values to unpack (expected 2)",
     "output_type": "error",
     "traceback": [
      "\u001b[0;31m---------------------------------------------------------------------------\u001b[0m",
      "\u001b[0;31mValueError\u001b[0m                                Traceback (most recent call last)",
      "\u001b[0;32m<ipython-input-14-92960f08fa2c>\u001b[0m in \u001b[0;36m<cell line: 2>\u001b[0;34m()\u001b[0m\n\u001b[1;32m      1\u001b[0m \u001b[0;31m# 7.4)\u001b[0m\u001b[0;34m\u001b[0m\u001b[0;34m\u001b[0m\u001b[0m\n\u001b[0;32m----> 2\u001b[0;31m \u001b[0ml\u001b[0m\u001b[0;34m,\u001b[0m\u001b[0mv\u001b[0m \u001b[0;34m=\u001b[0m \u001b[0mlinalg\u001b[0m\u001b[0;34m.\u001b[0m\u001b[0meig\u001b[0m\u001b[0;34m(\u001b[0m\u001b[0mA\u001b[0m\u001b[0;34m,\u001b[0m\u001b[0mleft\u001b[0m\u001b[0;34m=\u001b[0m\u001b[0;32mTrue\u001b[0m\u001b[0;34m)\u001b[0m\u001b[0;34m\u001b[0m\u001b[0;34m\u001b[0m\u001b[0m\n\u001b[0m\u001b[1;32m      3\u001b[0m \u001b[0mprint\u001b[0m\u001b[0;34m(\u001b[0m\u001b[0ml\u001b[0m\u001b[0;34m)\u001b[0m\u001b[0;34m\u001b[0m\u001b[0;34m\u001b[0m\u001b[0m\n\u001b[1;32m      4\u001b[0m \u001b[0mprint\u001b[0m\u001b[0;34m(\u001b[0m\u001b[0;34m)\u001b[0m\u001b[0;34m\u001b[0m\u001b[0;34m\u001b[0m\u001b[0m\n\u001b[1;32m      5\u001b[0m \u001b[0mprint\u001b[0m\u001b[0;34m(\u001b[0m\u001b[0mv\u001b[0m\u001b[0;34m)\u001b[0m\u001b[0;34m\u001b[0m\u001b[0;34m\u001b[0m\u001b[0m\n",
      "\u001b[0;31mValueError\u001b[0m: too many values to unpack (expected 2)"
     ]
    }
   ],
   "source": [
    "# 7.4)\n",
    "l,v = linalg.eig(A,left=True)\n",
    "print(l)\n",
    "print()\n",
    "print(v)"
   ]
  },
  {
   "cell_type": "markdown",
   "metadata": {
    "id": "pnLBb1tzORNc"
   },
   "source": [
    "**7.5)** Verifique que la ecuación $(2)$ se cumple."
   ]
  },
  {
   "cell_type": "code",
   "execution_count": null,
   "metadata": {
    "colab": {
     "base_uri": "https://localhost:8080/",
     "height": 211
    },
    "executionInfo": {
     "elapsed": 293,
     "status": "error",
     "timestamp": 1726916205773,
     "user": {
      "displayName": "Marcos Santillan",
      "userId": "13008565452722238473"
     },
     "user_tz": 180
    },
    "id": "EpD9ZvAFOSkn",
    "outputId": "e6f7300c-a195-4ec3-e383-852f6fe7cc0b"
   },
   "outputs": [
    {
     "ename": "ValueError",
     "evalue": "too many values to unpack (expected 2)",
     "output_type": "error",
     "traceback": [
      "\u001b[0;31m---------------------------------------------------------------------------\u001b[0m",
      "\u001b[0;31mValueError\u001b[0m                                Traceback (most recent call last)",
      "\u001b[0;32m<ipython-input-25-99436699579b>\u001b[0m in \u001b[0;36m<cell line: 2>\u001b[0;34m()\u001b[0m\n\u001b[1;32m      1\u001b[0m \u001b[0;31m# 7.5)\u001b[0m\u001b[0;34m\u001b[0m\u001b[0;34m\u001b[0m\u001b[0m\n\u001b[0;32m----> 2\u001b[0;31m \u001b[0mw\u001b[0m\u001b[0;34m,\u001b[0m\u001b[0mv\u001b[0m \u001b[0;34m=\u001b[0m \u001b[0mlinalg\u001b[0m\u001b[0;34m.\u001b[0m\u001b[0meig\u001b[0m\u001b[0;34m(\u001b[0m\u001b[0mA\u001b[0m\u001b[0;34m,\u001b[0m\u001b[0mleft\u001b[0m\u001b[0;34m=\u001b[0m\u001b[0;32mTrue\u001b[0m\u001b[0;34m)\u001b[0m\u001b[0;34m\u001b[0m\u001b[0;34m\u001b[0m\u001b[0m\n\u001b[0m\u001b[1;32m      3\u001b[0m \u001b[0mprint\u001b[0m\u001b[0;34m(\u001b[0m\u001b[0mw\u001b[0m\u001b[0;34m)\u001b[0m\u001b[0;34m\u001b[0m\u001b[0;34m\u001b[0m\u001b[0m\n\u001b[1;32m      4\u001b[0m \u001b[0mprint\u001b[0m\u001b[0;34m(\u001b[0m\u001b[0;34m)\u001b[0m\u001b[0;34m\u001b[0m\u001b[0;34m\u001b[0m\u001b[0m\n\u001b[1;32m      5\u001b[0m \u001b[0mprint\u001b[0m\u001b[0;34m(\u001b[0m\u001b[0mv\u001b[0m\u001b[0;34m)\u001b[0m\u001b[0;34m\u001b[0m\u001b[0;34m\u001b[0m\u001b[0m\n",
      "\u001b[0;31mValueError\u001b[0m: too many values to unpack (expected 2)"
     ]
    }
   ],
   "source": [
    "# 7.5)\n",
    "w,v = linalg.eig(A,left=True)\n",
    "print(w)\n",
    "print()\n",
    "print(v)"
   ]
  },
  {
   "cell_type": "markdown",
   "metadata": {
    "id": "hJq6cMug_8WP"
   },
   "source": [
    "## **Ejercicio 8)** Singular Value Decomposition (SVD)\n",
    "\n",
    "Una matriz compleja $A$ de dimensiones $n\\times m$ se la puede pensar como una transformación lineal $A:V\\to W$ desde un espacio vectorial $V$ de dimensión $m$ a un espacio vectorial $W$ de dimensión $n$.\n",
    "A $V$ se lo suele llamar espacio de salida y a $W$ espacio de llegada.\n",
    "\n",
    "Cualquiera sea $A$, siempre existen matrices $L$, $D$ y $R$, de dimensiones $n\\times n$, $n\\times m$ y $m\\times m$, respectivamente, tales que $L$ y $R$ son unitarias, $D$ es diagonal y\n",
    "\n",
    "\\begin{eqnarray}\n",
    "A = LDR^{\\dagger} \\;\\;\\;\\; (1)\n",
    "\\end{eqnarray}\n",
    "\n",
    "Los valores diagonales\n",
    "\n",
    "\\begin{eqnarray}\n",
    "\\sigma_i := D_{ii}\n",
    "\\end{eqnarray}\n",
    "\n",
    "están definidos para todo $i\\in \\{1,...,k\\}$, donde $k=\\min(n,m)$,\n",
    "se los denomina valores singulares de $A$, son todos reales y no-negativos.\n",
    "La descomposición siempre puede realizarse de manera tal que $\\sigma_1\\geq \\sigma_2 \\geq ... \\geq \\sigma_k\\geq 0$.\n",
    "El número de valores singulares no nulos es el rango de $A$.\n",
    "\n",
    "Los vectores columna $l_1,...,l_n$ de $L$ forman una base ortonormal del espacio vectorial de llegada $W$.\n",
    "Los vectores columna $r_1,...,r_m$ de $R$ forman una base ortonormal del espacio vectorial de salida $V$.\n",
    "Usando estas propiedades, la ecuación $(1)$ puede reescribirse como\n",
    "\n",
    "\\begin{eqnarray}\n",
    "A = \\sum_{i=1}^k \\sigma_i \\, (l_i \\otimes r_i^{\\dagger}) \\;\\;\\;\\; (2)\n",
    "\\end{eqnarray}\n",
    "\n",
    "donde $l_i \\otimes r_i^{\\dagger}$ es la matriz de dimensiones $n\\times m$ resultante del producto de Kronecker entre la matriz $l_i$ de dimensiones $n\\times 1$ y la matriz $r_i^{\\dagger}$ de dimensiones $1\\times m$.\n",
    "\n",
    "Referencias:\n",
    "\n",
    "* https://en.wikipedia.org/wiki/Singular_value_decomposition\n",
    "* https://docs.scipy.org/doc/scipy/reference/generated/scipy.linalg.svd.html#scipy.linalg.svd\n",
    "\n",
    "**1)** Cree una matriz compleja $A$ de dimensiones $n\\times m$ con $n=9$ y $m=6$, cuyas entradas $a_{ij} = x_{ij} + i y_{ij}$ se computen generando números aleatorios $x_{ij}$ e $y_{ij}$ a partir de una distribución normal de media 0 y varianza 1.\n",
    "\n",
    "**2)** Use `linalg.svd()` para calcular la SVD de $A$. Dicha función retorna 3 arrays, digamos `L`, `s` y `Rc`, donde `L` denota a la matriz $L$, `s` denota al vector de valores singulares $(\\sigma_1,\\sigma_2,...,\\sigma_k)$ y `Rc` denota a la matriz compleja conjugada $R^{\\dagger}$.\n",
    "Inspeccione las dimensiones de los arrays retornados.\n",
    "\n",
    "**3)** Use el vector `s` para crear la matriz diagonal $D$ de dimensiones $n\\times m$.\n",
    "\n",
    "**4)** Use `np.allclose()` para verificar numéricamente la ecuación $(1)$."
   ]
  },
  {
   "cell_type": "code",
   "execution_count": null,
   "metadata": {
    "id": "0pUK7GdhAQBy"
   },
   "outputs": [],
   "source": [
    "# 8.1)\n",
    "n = 9\n",
    "m = 6\n",
    "x = np.random.randn(n,1)\n",
    "y = np.random.randn(1,m)\n",
    "A = x + 1j*y\n",
    "A"
   ]
  }
 ],
 "metadata": {
  "colab": {
   "provenance": []
  },
  "kernelspec": {
   "display_name": "Python 3 (ipykernel)",
   "language": "python",
   "name": "python3"
  },
  "language_info": {
   "codemirror_mode": {
    "name": "ipython",
    "version": 3
   },
   "file_extension": ".py",
   "mimetype": "text/x-python",
   "name": "python",
   "nbconvert_exporter": "python",
   "pygments_lexer": "ipython3",
   "version": "3.12.4"
  }
 },
 "nbformat": 4,
 "nbformat_minor": 4
}
