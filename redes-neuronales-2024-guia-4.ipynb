{
  "nbformat": 4,
  "nbformat_minor": 0,
  "metadata": {
    "colab": {
      "provenance": [],
      "include_colab_link": true
    },
    "kernelspec": {
      "name": "python3",
      "display_name": "Python 3"
    },
    "language_info": {
      "name": "python"
    }
  },
  "cells": [
    {
      "cell_type": "markdown",
      "metadata": {
        "id": "view-in-github",
        "colab_type": "text"
      },
      "source": [
        "<a href=\"https://colab.research.google.com/gist/marcos626/f1994542d9280d4a2d6b234aebbdf230/redes-neuronales-2024-guia-4.ipynb\" target=\"_parent\"><img src=\"https://colab.research.google.com/assets/colab-badge.svg\" alt=\"Open In Colab\"/></a>"
      ]
    },
    {
      "cell_type": "markdown",
      "source": [
        "# Integración numérica de ODEs\n",
        "\n",
        "En este práctico introduciremos los métodos de **Euler** y de **RK4** (Runge-Kutta de orden 4) de integración numérica de Ecuaciones Diferenciales Ordinarias (ODEs).\n",
        "\n",
        "## **Ejercicio 1)** Importando librerías\n",
        "\n",
        "Importe las librerías `numpy` para operar con arrays, `scipy` para utilizar rutinas de algebra lineal y `matplotlib.pyplot` para graficar."
      ],
      "metadata": {
        "id": "NRYEofSD0xoF"
      }
    },
    {
      "cell_type": "code",
      "source": [
        "import numpy as np\n",
        "import scipy as sp\n",
        "import scipy.linalg as linalg\n",
        "import matplotlib.pyplot as plt"
      ],
      "metadata": {
        "id": "I8N3D_nU1_oT"
      },
      "execution_count": 1,
      "outputs": []
    },
    {
      "cell_type": "markdown",
      "source": [
        "## **Ejercicio 2)** Integrador de **Euler**\n",
        "\n",
        "### Ecuaciones Diferenciales Ordinarias (ODEs)\n",
        "\n",
        "El comportamiento de un sistema dinámico se suele describir en términos de trayectorias. Una trayectoria es una función del tiempo\n",
        "\n",
        "\\begin{eqnarray}\n",
        "x:\\mathbb{R}\\ni t\\to x(t)\\in X\n",
        "\\end{eqnarray}\n",
        "\n",
        "en donde $x(t)\\in X$ representa el estado que exhibe el sistema al tiempo $t$ y $X$ es un espacio vectorial.\n",
        "Típicamente, $X=\\mathbb{R}^n$.\n",
        "\n",
        "Las trayectorias de un sistema dinámico suelen ser soluciones de una ecuación diferencial.\n",
        "Nosotros, nos enfocaremos en sistemas dinámicos caracterizados por Ecuaciones Diferenciales Ordinarias (ODEs).\n",
        "\n",
        "Decimos que una trayectoria $x:t\\to x(t)$ es su solución de una ODE caracterizada por una función\n",
        "\n",
        "\\begin{eqnarray}\n",
        "f: X,\\mathbb{R} \\ni x,t \\to f(x,t) \\in X\n",
        "\\end{eqnarray}\n",
        "\n",
        "cuando\n",
        "\n",
        "\\begin{eqnarray}\n",
        "x'(t) = f(x(t),t)\n",
        "\\end{eqnarray}\n",
        "\n",
        "para todo tiempo $t$ perteneciente a algún intervalo de tiempo $ T\\subseteq \\mathbb{R}$. Aquí, $x'(t)$ es la derivada con respecto al tiempo $t$ de la función $x:t\\to x(t)$ que representa la trayectoria.\n",
        "\n",
        "En una ODE, una trayectoria particular $x$ queda unívocamente determinada por el valor de $x(t)$ en algún tiempo específico. Típicamente, se considera una *condición incial* $x(a)$, y nos interesa computar el valor de $x(t)$ para todo $t\\in [a,b]$, i.e. conocer la trayectoria para todo tiempo entre un tiempo incial $a$ y un tiempo final $b$.\n",
        "\n",
        "### Métodos de integración numérica de ODEs\n",
        "\n",
        "Los métodos de integración de sistemas de Ecuaciones Diferenciales Ordinarias (ODEs) consisten, básicamente, de dos partes.\n",
        "\n",
        "* Un método de extrapolación que permita aproximar **un paso de integración**, i.e. aproximar $x(t+h)$ a partir de conocer $t$, $x(t)$ y $f$ para valores de $h\\in \\mathbb{R}$ suficientementes pequeños.\n",
        "\n",
        "* Un **integrador** de sucesivas aproximaciones $w_0$, $w_1$, ..., $w_k$ de los valores $x(a)$, $x(a+h)$, $x(a+2h)$, ..., $x(a+kh)=x(b)$ computadas secuencialmente a partir de un valor incial $w_0=x(a)$.\n",
        "\n",
        "Existen varios métodos de aproximar un paso de integración.\n",
        "En cambio, el integrador suele ser común a los diferentes métodos.\n",
        "\n",
        "### Método de Euler\n",
        "\n",
        "El método de Euler es, quizás, el más simple que existe.\n",
        "Esencialmente, consiste en aproximar de $x(t+h)$ utilizando $f(x,t)$ para calcular la extrapolación lineal\n",
        "\n",
        "\\begin{eqnarray}\n",
        "x(t+h)\n",
        "&=&\n",
        "x(t) + x'(t)h + x''(t)\\frac{h^2}{2} + ...\n",
        "\\\\\n",
        "&\\approx &\n",
        "x(t) + x'(t)h\n",
        "\\\\\n",
        "&=&\n",
        "x(t) + f(x(t),t)h\n",
        "\\end{eqnarray}\n",
        "\n",
        "para un valor de $h$ que sea relativamente pequeño.\n",
        "\n",
        "### Integrador\n",
        "\n",
        "Si $t_0,t_1,...,t_n$ son valores equiespaciados en el intervalo de tiempo $[a,b]$, entonces $t_j=a+jh$ para $j\\in \\{0,1,2,...,n\\}$ con $t_n=b$ y $h=(b-a)/n$.\n",
        "Luego, utilizando el método $m$ proveido por el usuario, se computan sucesivamente las aproximaciones\n",
        "\n",
        "\\begin{eqnarray}\n",
        "w_{j} &=& m(f,w_{j-1},t_{j-1},h)\n",
        "\\end{eqnarray}\n",
        "\n",
        "de los valores $x(t+ih)$ para $j=1,...,n$, partiendo de la condición inicial $w_0=x(t_0)=x(a)$.\n",
        "\n",
        "Por ejemplo, si el método proveido es el de Euler, las aproximaciones adoptan la forma\n",
        "\n",
        "\\begin{eqnarray}\n",
        "w_{j} &=& w_{j-1} + f(w_{j-1},t_{j-1})h\n",
        "\\end{eqnarray}\n",
        "\n",
        "**1)** Implemente una función de Python llamada `euler` que compute un paso de integración según el método de **Euler**.\n",
        "Dicha función debe tomar como argumentos:\n",
        "\n",
        "* La función $f:\\mathbb{R}^n,\\mathbb{R} \\to \\mathbb{R}^n$ que caracterize el lado derecho de la ODE.\n",
        "\n",
        "* Un valor de $x \\in \\mathbb{R}^n$.\n",
        "\n",
        "* Un valor de $t \\in \\mathbb{R}$.\n",
        "\n",
        "* El paso de integración $h \\in \\mathbb{R}$.\n",
        "\n",
        "* Un vector de parámetros $p \\in \\mathbb{R}^m$.\n",
        "\n",
        "La función  `euler` debe retornar el lado derecho de la aproximación $x(t+h)\\approx x(t) + f(x(t),t)h$.\n",
        "\n",
        "**2)** Implemente una función de Python llamada `integrador_ode` que integre el cómputo de sucesivos pasos de integración.\n",
        "Dicha función debe tomar como argumentos:\n",
        "\n",
        "* Una función `m` que aproxime el paso de integración (ej. `euler`).\n",
        "\n",
        "* La función $f:\\mathbb{R}^n,\\mathbb{R} \\to \\mathbb{R}^n$.\n",
        "\n",
        "* La condición inicial $x_0=x(a)\\in \\mathbb{R}^n$.\n",
        "\n",
        "* El tiempo inciial $a\\in \\mathbb{R}$.\n",
        "\n",
        "* El tiempo final $b\\in \\mathbb{R}$.\n",
        "\n",
        "* El número $k\\in \\mathbb{N}$ de pasos de integración.\n",
        "\n",
        "* Un vector de parámetros $p \\in \\mathbb{R}^m$.\n",
        "\n",
        "* Y, opcionalmente, una *función condicionante*\n",
        "\\begin{eqnarray}\n",
        "c:\\mathbb{R}^n,\\mathbb{R},\\mathbb{R}^m\\ni x(t),t,p \\to c(x(t),t,p)\\in \\mathbb{R}^n\n",
        "\\end{eqnarray}\n",
        "que permita intervenir en el cómputo de la trayectoria cuando se desee.\n",
        "Veremos más adelante para que sirve esta función condicionante."
      ],
      "metadata": {
        "id": "NcaGEHAd10sb"
      }
    },
    {
      "cell_type": "code",
      "source": [
        "# 2.1)\n",
        "def euler(f,x,t,h,p):\n",
        "    \"\"\"\n",
        "    Calcula un paso de integración del método de Euler.\n",
        "\n",
        "    Argumentos de entrada:\n",
        "\n",
        "        f : R^n,R -> R^n\n",
        "        x = x(t) : R^n\n",
        "        t = tiempo : R\n",
        "        h = paso de tiempo : R\n",
        "        p = parametros : R^q\n",
        "\n",
        "    Retorna aproximacion numérica de\n",
        "\n",
        "        x(t+h) : R^n\n",
        "\n",
        "    según el método de Euler.\n",
        "\n",
        "    # Ejemplos:\n",
        "    \"\"\"\n",
        "    return x+h*f(x,t,p)"
      ],
      "metadata": {
        "id": "ffotpn_Xgy85"
      },
      "execution_count": 2,
      "outputs": []
    },
    {
      "cell_type": "code",
      "source": [
        "# 2.2)\n",
        "def integrador_ode(m,f,xa,a,b,k,p,c=lambda x,t,p:x):\n",
        "    \"\"\"\n",
        "    Integra numéricamente la ODE\n",
        "\n",
        "        dx/dt = f(x,t)\n",
        "\n",
        "    sobre el intervalo t:[a,b] usando k pasos de integración y el método m, bajo condicion inicial x(a)=x0.\n",
        "    No es necesario que a<b.\n",
        "\n",
        "    Argumentos de entrada:\n",
        "\n",
        "        m = metodo de integracion (ej. euler, rk2, etc.)\n",
        "        f : R^n -> R^n\n",
        "        xa = condicion inicial : R\n",
        "        a = tiempo inicial : R\n",
        "        b = tiempo final : R\n",
        "        k = num. pasos de integracion : N\n",
        "        p = parametros : R^q\n",
        "        c = función condicionante : R^n,R,p -> R^n\n",
        "\n",
        "    Retorna:\n",
        "\n",
        "        t : R^{k+1} , t_j = a+j*h para j=0,1,...,k\n",
        "        w : R^{n,k+1} , w_ij = x_i(t_j) para i=0,1,...,n-1 y j=0,1,...,k\n",
        "\n",
        "    donde a+k*dt = b.\n",
        "    \"\"\"\n",
        "    assert k>0\n",
        "    n = len(xa)\n",
        "    h = (b-a)/k\n",
        "    w = np.zeros((n,k+1)) # Produce un array con forma y tipo especificada con los parametros,\n",
        "                          # lleno de ceros. la forma puede ser espcificada con un entero o tupla (n,k+1)\n",
        "    t = np.zeros(k+1)\n",
        "    w[:,0] = xa           # actualiza la posicion inicial (columna de indice 0) de las variables con los valores\n",
        "                          # de las condiciones iniciales\n",
        "    t[0] = a              # actualiza la posicion cero con el valor del tiempo inicial\n",
        "\n",
        "    for j in range(k):    #Aca se produce la iteración en j\n",
        "\n",
        "        t[j+1] = t[j] + h                # iteracion tiempo\n",
        "        w[:,j+1] = m(f,w[:,j],t[j],h,p)  # iteracion de w\n",
        "        w[:,j+1] = c(w[:,j+1],t[j+1],p)  # condicion sobre w\n",
        "\n",
        "    return t,w"
      ],
      "metadata": {
        "id": "VTRxmrRP18ZV"
      },
      "execution_count": 3,
      "outputs": []
    },
    {
      "cell_type": "markdown",
      "source": [
        "## **Ejercicio 3)** Crecimiento exponencial\n",
        "\n",
        "Considere la ODE\n",
        "\n",
        "\\begin{eqnarray}\n",
        "x'(t)\n",
        "&=&\n",
        "qx(t)\n",
        "\\end{eqnarray}\n",
        "\n",
        "donde $q$ es una constante positiva.\n",
        "\n",
        "**1)** Utilice el integrador ODE implementado en el ejercicio 2) para integrar la ODE arriba definida, a partir de la condición inicial $x(t=0)=1$ hasta el tiempo $t=3$, y para $q=1$. Utilice el paso de integración $h=0.1$.\n",
        "\n",
        "**2)** Grafique la solución numérica computada en el inciso anterior. Incluya en el gráfico la solución exacta que se deriva a continuación\n",
        "\n",
        "\\begin{eqnarray}\n",
        "x'(t)\n",
        "&=&\n",
        "qx(t)\n",
        "\\\\\n",
        "\\frac{dx}{dt}\n",
        "&=&\n",
        "qx\n",
        "\\\\\n",
        "\\frac{dx}{x}\n",
        "&=&\n",
        "qdt\n",
        "\\\\\n",
        "\\int_{x(0)}^{x(\\tau)}\n",
        "\\frac{dx}{x}\n",
        "&=&\n",
        "q\n",
        "\\int_0^{\\tau} dt\n",
        "\\\\\n",
        "\\ln(x(\\tau))-\\ln(x(0))\n",
        "&=&\n",
        "q\\tau\n",
        "\\\\\n",
        "\\ln(x(t))\n",
        "&=&\n",
        "qt\n",
        "+\n",
        "\\ln(x(0))\n",
        "\\\\\n",
        "x(t)\n",
        "&=&\n",
        "e^{\n",
        "qt\n",
        "+\n",
        "\\ln(x(0))\n",
        "}\n",
        "\\\\\n",
        "x(t)\n",
        "&=&\n",
        "e^{\\ln(x(0))}\n",
        "e^{qt}\n",
        "\\\\\n",
        "x(t)\n",
        "&=&\n",
        "x(0)\n",
        "e^{qt}\n",
        "\\end{eqnarray}\n",
        "\n",
        "**3)** Repita para $h=0.01$."
      ],
      "metadata": {
        "id": "yBKvIBvmr3Wb"
      }
    },
    {
      "cell_type": "code",
      "source": [
        "#3.1)\n",
        "def f(x,t,p):\n",
        "    \"\"\"\n",
        "    q = p[0]\n",
        "    \"\"\"\n",
        "    return p[0]*np.array(x[0])"
      ],
      "metadata": {
        "id": "JDdjPQWDu3JE"
      },
      "execution_count": 4,
      "outputs": []
    },
    {
      "cell_type": "code",
      "source": [
        "a=0\n",
        "b=3\n",
        "h=0.1\n",
        "k = int((b-a)/h)#+1\n",
        "xa = np.array([1]) # x(a)=x(0)=1\n",
        "p = np.array([1])"
      ],
      "metadata": {
        "id": "ZY5hIjHcvK-C"
      },
      "execution_count": 5,
      "outputs": []
    },
    {
      "cell_type": "code",
      "source": [
        "t,w = integrador_ode(euler,f,xa,a,b,k,p)"
      ],
      "metadata": {
        "id": "9hUz7QT0vdmM"
      },
      "execution_count": 6,
      "outputs": []
    },
    {
      "cell_type": "code",
      "source": [
        "# 3.2)\n",
        "plt.xlabel('$t$')\n",
        "plt.ylabel('$x(t)$')\n",
        "#plt.xlim(-0.1,5.1)\n",
        "#plt.ylim(-0.1,1.1)\n",
        "plt.scatter(t,w[0,:],label=\"numérica\",linestyle='-',c='red')\n",
        "plt.plot(t,np.exp(p[0]*t),label=\"exacta\",linestyle='-',c='blue')\n",
        "plt.title('Crecimiento exponencial, Euler, $h=0.1$')\n",
        "plt.legend()"
      ],
      "metadata": {
        "colab": {
          "base_uri": "https://localhost:8080/",
          "height": 491
        },
        "id": "s02I135MvfgV",
        "outputId": "5b22e872-cd14-48e7-8d48-9ec927f95ce2"
      },
      "execution_count": 9,
      "outputs": [
        {
          "output_type": "execute_result",
          "data": {
            "text/plain": [
              "<matplotlib.legend.Legend at 0x7c7c899b51b0>"
            ]
          },
          "metadata": {},
          "execution_count": 9
        },
        {
          "output_type": "display_data",
          "data": {
            "text/plain": [
              "<Figure size 640x480 with 1 Axes>"
            ],
            "image/png": "[encoded data removed]"
          },
          "metadata": {}
        }
      ]
    },
    {
      "cell_type": "code",
      "source": [
        "# 3.3)\n",
        "h=0.01\n",
        "k = int((b-a)/h)#+1\n",
        "t,w = integrador_ode(euler,f,xa,a,b,k,p)"
      ],
      "metadata": {
        "id": "RBAW42EkwJeZ"
      },
      "execution_count": 10,
      "outputs": []
    },
    {
      "cell_type": "code",
      "source": [
        "plt.xlabel('$t$')\n",
        "plt.ylabel('$x(t)$')\n",
        "#plt.xlim(-0.1,5.1)\n",
        "#plt.ylim(-0.1,1.1)\n",
        "plt.scatter(t,w[0,:],label=\"numérica\",linestyle='-',c='red')\n",
        "plt.plot(t,np.exp(p[0]*t),label=\"exacta\",linestyle='-',c='blue')\n",
        "plt.title('Crecimiento exponencial, Euler, $h=0.01$')\n",
        "plt.legend()"
      ],
      "metadata": {
        "colab": {
          "base_uri": "https://localhost:8080/",
          "height": 491
        },
        "id": "0EYAtAm4VUvu",
        "outputId": "ed11c9f1-6f12-4223-c945-632d89e9fb2d"
      },
      "execution_count": 11,
      "outputs": [
        {
          "output_type": "execute_result",
          "data": {
            "text/plain": [
              "<matplotlib.legend.Legend at 0x7c7c899b74c0>"
            ]
          },
          "metadata": {},
          "execution_count": 11
        },
        {
          "output_type": "display_data",
          "data": {
            "text/plain": [
              "<Figure size 640x480 with 1 Axes>"
            ],
            "image/png": "[encoded data removed]"
          },
          "metadata": {}
        }
      ]
    },
    {
      "cell_type": "markdown",
      "source": [
        "## **Ejercicio 4)** Decaimiento exponencial\n",
        "\n",
        "Considere la ODE\n",
        "\n",
        "\\begin{eqnarray}\n",
        "x'(t)\n",
        "&=&\n",
        "-qx(t)+r\n",
        "\\end{eqnarray}\n",
        "\n",
        "donde $q$ es una constante positiva y $r$ es una constante arbitraria.\n",
        "\n",
        "**1)** Use el integrador ODE con el método de Euler para encontrar una aproximación numérica de la ODE arriba especificada.\n",
        "Considere la condición inicial $x(0)=3$ e integre hasta $t=3$.\n",
        "Utilice el paso de integración $h=0.1$ y los valores de los parámetros $q=2$ y $r=3$.\n",
        "\n",
        "**2)** Grafique la trayectoria computada en el inciso anterior y, con el fin de comparar, grafique simultaneamente la correspondiente solución analítica derivada a continuación\n",
        "\n",
        "\\begin{eqnarray}\n",
        "\\frac{dx}{dt}\n",
        "&=&\n",
        "-qx+r\n",
        "\\\\\n",
        "-\\frac{1}{q}\\frac{du}{dt}\n",
        "&=&\n",
        "u,\n",
        "\\;\\;\\;\\;\n",
        "\\;\\;\\;\\;\n",
        "\\;\\;\\;\\;\n",
        "u=-qx+r\n",
        "\\\\\n",
        "\\frac{du}{dt}\n",
        "&=&\n",
        "-qu\n",
        "\\\\\n",
        "u(t)\n",
        "&=&\n",
        "u(0)e^{-qt}\n",
        "\\\\\n",
        "-qx(t)+r\n",
        "&=&\n",
        "(-qx(0)+r)e^{-qt}\n",
        "\\\\\n",
        "x(t)\n",
        "&=&\n",
        "(x(0)-r/q)e^{-qt}+r/q\n",
        "\\end{eqnarray}\n",
        "\n",
        "**3)** Repita para $h=0.01$.\n",
        "\n",
        "**4)** Repita para $x(0)=1$."
      ],
      "metadata": {
        "id": "TGYPvZmyzp7w"
      }
    },
    {
      "cell_type": "code",
      "source": [
        "# 4.1)\n",
        "def f(x,t,p):\n",
        "    \"\"\"\n",
        "    q = p[0]\n",
        "    r = p[1]\n",
        "    \"\"\"\n",
        "    return np.array([-p[0]*x[0]+p[1]])"
      ],
      "metadata": {
        "id": "jd8cvsQ49B-N"
      },
      "execution_count": 12,
      "outputs": []
    },
    {
      "cell_type": "code",
      "source": [
        "a=0\n",
        "b=3\n",
        "h=0.1\n",
        "k = int((b-a)/h)#+1\n",
        "xa = np.array([3]) # x(a)=x(0)=3\n",
        "p = np.array([2,3])\n"
      ],
      "metadata": {
        "id": "08xsLYqwVdl2"
      },
      "execution_count": 13,
      "outputs": []
    },
    {
      "cell_type": "code",
      "source": [
        "t,w = integrador_ode(euler,f,xa,a,b,k,p)"
      ],
      "metadata": {
        "id": "sk7EeCPZVgn-"
      },
      "execution_count": 14,
      "outputs": []
    },
    {
      "cell_type": "code",
      "source": [
        "plt.xlabel('$t$')\n",
        "plt.ylabel('$x(t)$')\n",
        "#plt.xlim(-0.1,5.1)\n",
        "#plt.ylim(-0.1,1.1)\n",
        "plt.scatter(t,w[0,:],label=\"numérica\",linestyle='-',c='red')\n",
        "plt.plot(t,((xa[0]-p[1]/p[0])*np.exp(-p[0]*t)+p[1]/\n",
        "            p[0]),label=\"exacta\",linestyle='-',c='blue')\n",
        "plt.title('Decaimiento exponencial, Euler, $h=0.1$')\n",
        "plt.legend()\n"
      ],
      "metadata": {
        "colab": {
          "base_uri": "https://localhost:8080/",
          "height": 491
        },
        "id": "BG0gDsJOVs68",
        "outputId": "dc953fc4-a3a2-495e-b665-9fed11e307c5"
      },
      "execution_count": 15,
      "outputs": [
        {
          "output_type": "execute_result",
          "data": {
            "text/plain": [
              "<matplotlib.legend.Legend at 0x7c7c8995b2b0>"
            ]
          },
          "metadata": {},
          "execution_count": 15
        },
        {
          "output_type": "display_data",
          "data": {
            "text/plain": [
              "<Figure size 640x480 with 1 Axes>"
            ],
            "image/png": "[encoded data removed]"
          },
          "metadata": {}
        }
      ]
    },
    {
      "cell_type": "code",
      "source": [
        "h=0.01\n",
        "k = int((b-a)/h)#+1\n",
        "t,w = integrador_ode(euler,f,xa,a,b,k,p)"
      ],
      "metadata": {
        "id": "igeL6cnmV0vi"
      },
      "execution_count": 16,
      "outputs": []
    },
    {
      "cell_type": "code",
      "source": [
        "plt.xlabel('$t$')\n",
        "plt.ylabel('$x(t)$')\n",
        "#plt.xlim(-0.1,5.1)\n",
        "#plt.ylim(-0.1,1.1)\n",
        "plt.scatter(t,w[0,:],label=\"numérica\",linestyle='-',c='red')\n",
        "plt.plot(t,((xa[0]-p[1]/p[0])*np.exp(-p[0]*t)+p[1]/\n",
        "            p[0]),label=\"exacta\",linestyle='-',c='blue')\n",
        "plt.title('Decaimiento exponencial, Euler, $h=0.1$')\n",
        "plt.legend()"
      ],
      "metadata": {
        "colab": {
          "base_uri": "https://localhost:8080/",
          "height": 491
        },
        "id": "-NvHwJpjV2t0",
        "outputId": "8d3f08d2-254a-4ef3-882f-1ff0c5f11aa3"
      },
      "execution_count": 17,
      "outputs": [
        {
          "output_type": "execute_result",
          "data": {
            "text/plain": [
              "<matplotlib.legend.Legend at 0x7c7c89840730>"
            ]
          },
          "metadata": {},
          "execution_count": 17
        },
        {
          "output_type": "display_data",
          "data": {
            "text/plain": [
              "<Figure size 640x480 with 1 Axes>"
            ],
            "image/png": "[encoded data removed]"
          },
          "metadata": {}
        }
      ]
    },
    {
      "cell_type": "markdown",
      "source": [
        "## **Ejercicio 5)** Ecuación Logística\n",
        "\n",
        "Considere la ODE\n",
        "\n",
        "\\begin{eqnarray}\n",
        "x'(t)\n",
        "&=&\n",
        "rx(t)(1-x(t)/K)\n",
        "\\end{eqnarray}\n",
        "\n",
        "**1)** Integre numéricamente la anterior ODE utilizando el método de Euler, la condición inicial $x(0)=0.1$, hasta $t=5$, utilizando un paso de integración $h=0.1$, una tasa de reproducción $r=1$ y una capacidad de carga $K=1$.\n",
        "\n",
        "**2)** Grafique la solución computada en el inciso anterior, comparandola con la solución analítica que se deriva a continuación\n",
        "\n",
        "\\begin{eqnarray}\n",
        "\\frac{dx}{dt}\n",
        "&=&\n",
        "rx(1-x/K)\n",
        "\\\\\n",
        "\\frac{dx}{x(1-x/K)}\n",
        "&=&\n",
        "rdt\n",
        "\\\\\n",
        "\\int_{x(0)}^{x(t)}\\frac{dx}{x(1-x/K)}\n",
        "&=&\n",
        "rt\n",
        "\\\\\n",
        "\\int_{x(0)}^{x(t)}dx\\,\\frac{1}{x}+\\frac{1}{K-x}\n",
        "&=&\n",
        "rt\n",
        "\\\\\n",
        "\\ln(x(t))-\\ln(x(0))\n",
        "-\n",
        "\\ln(K-x(t))\n",
        "+\n",
        "\\ln(K-x(0))\n",
        "&=&\n",
        "rt\n",
        "\\\\\n",
        "\\ln\\frac{x(t)}{K-x(t)}\n",
        "&=&\n",
        "rt\n",
        "+\n",
        "\\ln\\frac{x(0)}{K-x(0)}\n",
        "\\\\\n",
        "\\frac{x(t)}{K-x(t)}\n",
        "&=&\n",
        "f(t)\n",
        "=\n",
        "\\frac{x(0)}{K-x(0)}e^{rt}\n",
        "\\\\\n",
        "x(t)\n",
        "&=&\n",
        "(K-x(t))f(t)\n",
        "\\\\\n",
        "x(t)(1+f(t))\n",
        "&=&\n",
        "Kf(t)\n",
        "\\\\\n",
        "x(t)\n",
        "&=&\n",
        "K\\frac{f(t)}{1+f(t)}\n",
        "=\n",
        "K\\frac{1}{1+\\frac{1}{f(t)}}\n",
        "\\\\\n",
        "x(t)\n",
        "&=&\n",
        "K\\left(1+\\frac{K-x(0)}{x(0)}e^{-rt}\\right)^{-1}\n",
        "\\end{eqnarray}\n",
        "\n",
        "**3)** Repita para $x(0)=1.5$."
      ],
      "metadata": {
        "id": "ELWhPITQXyQ8"
      }
    },
    {
      "cell_type": "code",
      "source": [
        "# 5.1)"
      ],
      "metadata": {
        "id": "b7c19MoCY4Jy"
      },
      "execution_count": null,
      "outputs": []
    },
    {
      "cell_type": "markdown",
      "source": [
        "## **Ejercicio 6)** Oscilador armónico\n",
        "\n",
        "### Redución del orden de una ODE\n",
        "\n",
        "Comunmente, una Ordinary Differential Equation (ODE) de orden $n$ tiene la siguiente forma\n",
        "\n",
        "\\begin{eqnarray}\n",
        "y^{(n)}(t)\n",
        "&=&\n",
        "f(y(t),y'(t),y''(t),...,y^{(n-1)}(t),t)\n",
        "\\;\\;\\;\\; (1)\n",
        "\\end{eqnarray}\n",
        "\n",
        "donde $y^{(i)}$ denota la $i$-ésima derivada de $y$ respecto a $t$.\n",
        "Dicha ODE es de dimensión $d$ si $x:\\mathbb{R}\\ni t\\to y(t)\\in \\mathbb{R}^d$.\n",
        "\n",
        "La ODE de la ecuación $(1)$ siempre puede reducirse a una ODE de primer orden y dimensión $nd$ utilizando la siguiente transformación\n",
        "\n",
        "\\begin{eqnarray}\n",
        "x_1:t\\to x_1(t) &:=& y(t) \\\\\n",
        "x_2:t\\to x_2(t) &:=& y'(t) = x_1'(t) \\\\\n",
        "x_3:t\\to x_3(t) &:=& y''(t) = x_2'(t) \\\\\n",
        "&...& \\\\\n",
        "x_n:t\\to x_n(t) &:=& y^{(n-1)}(t) = x_{n-1}'(t) \\\\\n",
        "x_n':t\\to x_n'(t) &=& y^{(n)}(t)\n",
        "\\end{eqnarray}\n",
        "\n",
        "que vale para todo $t\\in [a,b]$. De esta manera, la ecuación $(1)$ adopta la forma\n",
        "\n",
        "\\begin{eqnarray}\n",
        "x_{1}'(t) &=& x_2(t) \\\\\n",
        "x_{2}'(t) &=& x_3(t) \\\\\n",
        "&...& \\\\\n",
        "x_{n-1}'(t) &=& x_n(t) \\\\\n",
        "x_n'(t) &=& f(x_1(t),x_2(t),x_3(t),...,x_{n}(t),t)\n",
        "\\end{eqnarray}\n",
        "\n",
        "lo cual constituye una ODE de primer orden y dimensión $nd$ como se mencionó.\n",
        "\n",
        "### El oscilador armónico\n",
        "\n",
        "El oscilador armónico viene descripto por la siguiente ODE\n",
        "\n",
        "\\begin{eqnarray}\n",
        "y''(t) &=& -\\alpha y(t)\n",
        "\\end{eqnarray}\n",
        "\n",
        "Esta es una ODE de segundo orden, ya que aparece la derivada segunda de la función $x:t\\to x(t)$.\n",
        "La convertimos a una de primer orden definiendo $x_1=y$ y $x_2=y'$, obteniéndose\n",
        "\n",
        "\\begin{eqnarray}\n",
        "x_1'(t) &=& x_2(t) \\\\\n",
        "x_2'(t) &=& -\\alpha x_1(t)\n",
        "\\end{eqnarray}\n",
        "\n",
        "**1)** Utilice lo implementado en el ejecicio 2) para resolver en el intervalo de tiempo $[a,b]=[0,10]$ la ODE del oscilador armónico sujeto a las siguientes condiciones iniciales\n",
        "\n",
        "\\begin{eqnarray}\n",
        "x_1(a) &=& y(a) = 1 \\\\\n",
        "x_2(a) &=& y'(a) = 0\n",
        "\\end{eqnarray}\n",
        "\n",
        "para $\\alpha=3$ y usando un paso de integración $h=0.1$.\n",
        "\n",
        "**2)** Grafique $x_1(t)$ vs $t$ y $x_2(t)$ vs $t$. No olvide agregar leyendas a los ejes y las curvas.\n",
        "Use `np.scatter()` en vez de `np.plot()` para graficar usando puntos en vez de curvas.\n",
        "\n",
        "**3)** Grafique $x_2(t)$ vs $x_1(t)$ paramétricamente en función de $t$."
      ],
      "metadata": {
        "id": "avaxswLISMWi"
      }
    },
    {
      "cell_type": "code",
      "source": [
        "# 6.1)\n",
        "def f(x,t,p):\n",
        "    \"\"\"\n",
        "    alpha = p[0]\n",
        "    \"\"\"\n",
        "    return np.array([x[1],-p[0]*x[0]])"
      ],
      "metadata": {
        "id": "R9IW3bQAsnCb"
      },
      "execution_count": 18,
      "outputs": []
    },
    {
      "cell_type": "code",
      "source": [
        "a=0\n",
        "b=10\n",
        "h=0.1\n",
        "k = int((b-a)/h)#+1\n",
        "xa = np.array([1,0]) # x(a)=x(0)=1 condicion inicial. la posición de y vale 1 y la velocidad de y vale cero\n",
        "p = np.array([3])"
      ],
      "metadata": {
        "id": "RYwCu6kUbCPA"
      },
      "execution_count": 19,
      "outputs": []
    },
    {
      "cell_type": "code",
      "source": [
        "t,w = integrador_ode(euler,f,xa,a,b,k,p)"
      ],
      "metadata": {
        "id": "48O1OvqCbHQ0"
      },
      "execution_count": 20,
      "outputs": []
    },
    {
      "cell_type": "code",
      "source": [
        "# 6.2)\n",
        "plt.xlabel('$t$')\n",
        "plt.ylabel('$x_1(t)$')\n",
        "#plt.xlim(-0.1,5.1)\n",
        "#plt.ylim(-0.1,1.1)\n",
        "valores_x=np.linspace(0,5,100)\n",
        "valores_yl:np.cos(valores_x)\n",
        "plt.scatter(t,w[0,:],label=\"x_1\",linestyle='-',c='red')\n",
        "plt.scatter(t,w[1,:],label=\"x_2\",linestyle='-',c='blue')\n",
        "plt.title('Oscilador armónico, Euler, $h=0.1$')\n",
        "plt.legend()\n"
      ],
      "metadata": {
        "id": "28Fz6-IEbJrq",
        "outputId": "b940b928-65f0-4c31-819c-3dbc246d2327",
        "colab": {
          "base_uri": "https://localhost:8080/",
          "height": 492
        }
      },
      "execution_count": 22,
      "outputs": [
        {
          "output_type": "execute_result",
          "data": {
            "text/plain": [
              "<matplotlib.legend.Legend at 0x7c7c898bbb50>"
            ]
          },
          "metadata": {},
          "execution_count": 22
        },
        {
          "output_type": "display_data",
          "data": {
            "text/plain": [
              "<Figure size 640x480 with 1 Axes>"
            ],
            "image/png": "[encoded data removed]"
          },
          "metadata": {}
        }
      ]
    },
    {
      "cell_type": "code",
      "source": [
        "# 6.3)"
      ],
      "metadata": {
        "id": "fXG96yZ3ccwz"
      },
      "execution_count": null,
      "outputs": []
    },
    {
      "cell_type": "markdown",
      "source": [
        "## **Ejercicio 7)** Integrador de **RK4**\n",
        "\n",
        "El método de Runge-Kutta de orden 4 utiliza la teoría de diferencias finitas para calcular la siguiente aproximación de orden 4to de un paso de integración.\n",
        "A saber\n",
        "\\begin{eqnarray}\n",
        "x(t+h)\n",
        "&=&\n",
        "x(t)\n",
        "+\n",
        "\\frac{h}{6}\n",
        "(k_1+2k_2+2k_3+k_4)\n",
        "+\n",
        "\\mathcal{O}(h^5)\n",
        "\\end{eqnarray}\n",
        "\n",
        "donde\n",
        "\n",
        "\\begin{eqnarray}\n",
        "k_1 &=& f(x,t) \\\\\n",
        "k_2 &=& f(x+hk_1/2,t+h/2) \\\\\n",
        "k_3 &=& f(x+hk_2/2,t+h/2) \\\\\n",
        "k_4 &=& f(x+hk_3,t+h)\n",
        "\\end{eqnarray}\n",
        "\n",
        "**1)** Implemente el método de RK4.\n",
        "\n",
        "**2)** Repita el ejercicio **6)** pero usando **RK4** en vez de **Euler**.\n",
        "\n",
        "**3)** Nota alguna diferencia al comparar la solución obtenida con Euler y la solución obtenida con RK4?"
      ],
      "metadata": {
        "id": "M1ijOC6_ILf-"
      }
    },
    {
      "cell_type": "code",
      "source": [
        "# 7.1)"
      ],
      "metadata": {
        "id": "OFOv2a_qe516"
      },
      "execution_count": null,
      "outputs": []
    },
    {
      "cell_type": "markdown",
      "source": [
        "### 7.3)\n",
        "Observamos que con el método de Euler (ej. **7)**) la curva forma una espiral debido al error numérico que se acumula a medida que avanza el tiempo $t\n",
        ". Por otr lado, vemos que con el método RK4, la curva forma un elipsoide, que es lo correcto."
      ],
      "metadata": {
        "id": "R3ffvHETo8Cz"
      }
    },
    {
      "cell_type": "markdown",
      "source": [
        "## **Ejercicio 8)** Creando una \"libreria\" de integradores ODE\n",
        "\n",
        "**1)** Exporte el actual notebook `redes-neuronales-2022-practico-4.ipynb` a `ode.py`.\n",
        "\n",
        "**2)** Con su editor de texto favorito, elimine todo lo que sobra de `ode.py`. Deje, solamente, el código que:\n",
        "\n",
        "* importa `numpy`.\n",
        "\n",
        "* define la funcion `euler`.\n",
        "\n",
        "* define la funcion `rk4`.\n",
        "\n",
        "* define la funcion `integrador_ode`.\n",
        "\n",
        "**3)** En google colab, suba el archivo `ode.py` anteriormente creado.\n",
        "\n",
        "**4)** Importe la \"libreria\" `ode` escribiendo\n",
        "\n",
        "    import ode\n",
        "\n",
        "**5)** Pruebe la libreria `ode` escribiendo\n",
        "\n",
        "    t,x = ode.integrador_ode(ode.rk4,f,xa,a,b,k,p)"
      ],
      "metadata": {
        "id": "6aJZWisYQUfg"
      }
    },
    {
      "cell_type": "code",
      "source": [
        "# 8.4)"
      ],
      "metadata": {
        "id": "5vx4k4CpQSmM"
      },
      "execution_count": null,
      "outputs": []
    },
    {
      "cell_type": "code",
      "source": [
        "!jupyter nbconvert --to pdf --LatexExporter.latex_command=pdflatex redes_neuronales_2024_guia_4.ipynb\n"
      ],
      "metadata": {
        "collapsed": true,
        "id": "DoD4cF7dvPCo",
        "outputId": "09507aed-3132-4fe5-c689-e502224cbaaf",
        "colab": {
          "base_uri": "https://localhost:8080/"
        }
      },
      "execution_count": null,
      "outputs": [
        {
          "output_type": "stream",
          "name": "stdout",
          "text": [
            "[NbConvertApp] WARNING | pattern 'redes_neuronales_2024_guia_4.ipynb' matched no files\n",
            "This application is used to convert notebook files (*.ipynb)\n",
            "        to various other formats.\n",
            "\n",
            "        WARNING: THE COMMANDLINE INTERFACE MAY CHANGE IN FUTURE RELEASES.\n",
            "\n",
            "Options\n",
            "=======\n",
            "The options below are convenience aliases to configurable class-options,\n",
            "as listed in the \"Equivalent to\" description-line of the aliases.\n",
            "To see all configurable class-options for some <cmd>, use:\n",
            "    <cmd> --help-all\n",
            "\n",
            "--debug\n",
            "    set log level to logging.DEBUG (maximize logging output)\n",
            "    Equivalent to: [--Application.log_level=10]\n",
            "--show-config\n",
            "    Show the application's configuration (human-readable format)\n",
            "    Equivalent to: [--Application.show_config=True]\n",
            "--show-config-json\n",
            "    Show the application's configuration (json format)\n",
            "    Equivalent to: [--Application.show_config_json=True]\n",
            "--generate-config\n",
            "    generate default config file\n",
            "    Equivalent to: [--JupyterApp.generate_config=True]\n",
            "-y\n",
            "    Answer yes to any questions instead of prompting.\n",
            "    Equivalent to: [--JupyterApp.answer_yes=True]\n",
            "--execute\n",
            "    Execute the notebook prior to export.\n",
            "    Equivalent to: [--ExecutePreprocessor.enabled=True]\n",
            "--allow-errors\n",
            "    Continue notebook execution even if one of the cells throws an error and include the error message in the cell output (the default behaviour is to abort conversion). This flag is only relevant if '--execute' was specified, too.\n",
            "    Equivalent to: [--ExecutePreprocessor.allow_errors=True]\n",
            "--stdin\n",
            "    read a single notebook file from stdin. Write the resulting notebook with default basename 'notebook.*'\n",
            "    Equivalent to: [--NbConvertApp.from_stdin=True]\n",
            "--stdout\n",
            "    Write notebook output to stdout instead of files.\n",
            "    Equivalent to: [--NbConvertApp.writer_class=StdoutWriter]\n",
            "--inplace\n",
            "    Run nbconvert in place, overwriting the existing notebook (only\n",
            "            relevant when converting to notebook format)\n",
            "    Equivalent to: [--NbConvertApp.use_output_suffix=False --NbConvertApp.export_format=notebook --FilesWriter.build_directory=]\n",
            "--clear-output\n",
            "    Clear output of current file and save in place,\n",
            "            overwriting the existing notebook.\n",
            "    Equivalent to: [--NbConvertApp.use_output_suffix=False --NbConvertApp.export_format=notebook --FilesWriter.build_directory= --ClearOutputPreprocessor.enabled=True]\n",
            "--no-prompt\n",
            "    Exclude input and output prompts from converted document.\n",
            "    Equivalent to: [--TemplateExporter.exclude_input_prompt=True --TemplateExporter.exclude_output_prompt=True]\n",
            "--no-input\n",
            "    Exclude input cells and output prompts from converted document.\n",
            "            This mode is ideal for generating code-free reports.\n",
            "    Equivalent to: [--TemplateExporter.exclude_output_prompt=True --TemplateExporter.exclude_input=True --TemplateExporter.exclude_input_prompt=True]\n",
            "--allow-chromium-download\n",
            "    Whether to allow downloading chromium if no suitable version is found on the system.\n",
            "    Equivalent to: [--WebPDFExporter.allow_chromium_download=True]\n",
            "--disable-chromium-sandbox\n",
            "    Disable chromium security sandbox when converting to PDF..\n",
            "    Equivalent to: [--WebPDFExporter.disable_sandbox=True]\n",
            "--show-input\n",
            "    Shows code input. This flag is only useful for dejavu users.\n",
            "    Equivalent to: [--TemplateExporter.exclude_input=False]\n",
            "--embed-images\n",
            "    Embed the images as base64 dataurls in the output. This flag is only useful for the HTML/WebPDF/Slides exports.\n",
            "    Equivalent to: [--HTMLExporter.embed_images=True]\n",
            "--sanitize-html\n",
            "    Whether the HTML in Markdown cells and cell outputs should be sanitized..\n",
            "    Equivalent to: [--HTMLExporter.sanitize_html=True]\n",
            "--log-level=<Enum>\n",
            "    Set the log level by value or name.\n",
            "    Choices: any of [0, 10, 20, 30, 40, 50, 'DEBUG', 'INFO', 'WARN', 'ERROR', 'CRITICAL']\n",
            "    Default: 30\n",
            "    Equivalent to: [--Application.log_level]\n",
            "--config=<Unicode>\n",
            "    Full path of a config file.\n",
            "    Default: ''\n",
            "    Equivalent to: [--JupyterApp.config_file]\n",
            "--to=<Unicode>\n",
            "    The export format to be used, either one of the built-in formats\n",
            "            ['asciidoc', 'custom', 'html', 'latex', 'markdown', 'notebook', 'pdf', 'python', 'rst', 'script', 'slides', 'webpdf']\n",
            "            or a dotted object name that represents the import path for an\n",
            "            ``Exporter`` class\n",
            "    Default: ''\n",
            "    Equivalent to: [--NbConvertApp.export_format]\n",
            "--template=<Unicode>\n",
            "    Name of the template to use\n",
            "    Default: ''\n",
            "    Equivalent to: [--TemplateExporter.template_name]\n",
            "--template-file=<Unicode>\n",
            "    Name of the template file to use\n",
            "    Default: None\n",
            "    Equivalent to: [--TemplateExporter.template_file]\n",
            "--theme=<Unicode>\n",
            "    Template specific theme(e.g. the name of a JupyterLab CSS theme distributed\n",
            "    as prebuilt extension for the lab template)\n",
            "    Default: 'light'\n",
            "    Equivalent to: [--HTMLExporter.theme]\n",
            "--sanitize_html=<Bool>\n",
            "    Whether the HTML in Markdown cells and cell outputs should be sanitized.This\n",
            "    should be set to True by nbviewer or similar tools.\n",
            "    Default: False\n",
            "    Equivalent to: [--HTMLExporter.sanitize_html]\n",
            "--writer=<DottedObjectName>\n",
            "    Writer class used to write the\n",
            "                                        results of the conversion\n",
            "    Default: 'FilesWriter'\n",
            "    Equivalent to: [--NbConvertApp.writer_class]\n",
            "--post=<DottedOrNone>\n",
            "    PostProcessor class used to write the\n",
            "                                        results of the conversion\n",
            "    Default: ''\n",
            "    Equivalent to: [--NbConvertApp.postprocessor_class]\n",
            "--output=<Unicode>\n",
            "    overwrite base name use for output files.\n",
            "                can only be used when converting one notebook at a time.\n",
            "    Default: ''\n",
            "    Equivalent to: [--NbConvertApp.output_base]\n",
            "--output-dir=<Unicode>\n",
            "    Directory to write output(s) to. Defaults\n",
            "                                  to output to the directory of each notebook. To recover\n",
            "                                  previous default behaviour (outputting to the current\n",
            "                                  working directory) use . as the flag value.\n",
            "    Default: ''\n",
            "    Equivalent to: [--FilesWriter.build_directory]\n",
            "--reveal-prefix=<Unicode>\n",
            "    The URL prefix for reveal.js (version 3.x).\n",
            "            This defaults to the reveal CDN, but can be any url pointing to a copy\n",
            "            of reveal.js.\n",
            "            For speaker notes to work, this must be a relative path to a local\n",
            "            copy of reveal.js: e.g., \"reveal.js\".\n",
            "            If a relative path is given, it must be a subdirectory of the\n",
            "            current directory (from which the server is run).\n",
            "            See the usage documentation\n",
            "            (https://nbconvert.readthedocs.io/en/latest/usage.html#reveal-js-html-slideshow)\n",
            "            for more details.\n",
            "    Default: ''\n",
            "    Equivalent to: [--SlidesExporter.reveal_url_prefix]\n",
            "--nbformat=<Enum>\n",
            "    The nbformat version to write.\n",
            "            Use this to downgrade notebooks.\n",
            "    Choices: any of [1, 2, 3, 4]\n",
            "    Default: 4\n",
            "    Equivalent to: [--NotebookExporter.nbformat_version]\n",
            "\n",
            "Examples\n",
            "--------\n",
            "\n",
            "    The simplest way to use nbconvert is\n",
            "\n",
            "            > jupyter nbconvert mynotebook.ipynb --to html\n",
            "\n",
            "            Options include ['asciidoc', 'custom', 'html', 'latex', 'markdown', 'notebook', 'pdf', 'python', 'rst', 'script', 'slides', 'webpdf'].\n",
            "\n",
            "            > jupyter nbconvert --to latex mynotebook.ipynb\n",
            "\n",
            "            Both HTML and LaTeX support multiple output templates. LaTeX includes\n",
            "            'base', 'article' and 'report'.  HTML includes 'basic', 'lab' and\n",
            "            'classic'. You can specify the flavor of the format used.\n",
            "\n",
            "            > jupyter nbconvert --to html --template lab mynotebook.ipynb\n",
            "\n",
            "            You can also pipe the output to stdout, rather than a file\n",
            "\n",
            "            > jupyter nbconvert mynotebook.ipynb --stdout\n",
            "\n",
            "            PDF is generated via latex\n",
            "\n",
            "            > jupyter nbconvert mynotebook.ipynb --to pdf\n",
            "\n",
            "            You can get (and serve) a Reveal.js-powered slideshow\n",
            "\n",
            "            > jupyter nbconvert myslides.ipynb --to slides --post serve\n",
            "\n",
            "            Multiple notebooks can be given at the command line in a couple of\n",
            "            different ways:\n",
            "\n",
            "            > jupyter nbconvert notebook*.ipynb\n",
            "            > jupyter nbconvert notebook1.ipynb notebook2.ipynb\n",
            "\n",
            "            or you can specify the notebooks list in a config file, containing::\n",
            "\n",
            "                c.NbConvertApp.notebooks = [\"my_notebook.ipynb\"]\n",
            "\n",
            "            > jupyter nbconvert --config mycfg.py\n",
            "\n",
            "To see all available configurables, use `--help-all`.\n",
            "\n"
          ]
        }
      ]
    },
    {
      "cell_type": "code",
      "source": [
        "!ls\n"
      ],
      "metadata": {
        "id": "0Orw4SVpyWUh",
        "outputId": "788c975d-ea9f-4a51-cc8a-5d0444cec788",
        "colab": {
          "base_uri": "https://localhost:8080/"
        }
      },
      "execution_count": null,
      "outputs": [
        {
          "output_type": "stream",
          "name": "stdout",
          "text": [
            "sample_data\n"
          ]
        }
      ]
    }
  ]
}