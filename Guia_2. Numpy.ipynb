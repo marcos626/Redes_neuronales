{
 "cells": [
  {
   "cell_type": "markdown",
   "metadata": {
    "id": "view-in-github"
   },
   "source": [
    "<a href=\"https://colab.research.google.com/gist/marcos626/3a2c57cff11991943017137963ea17b8/redes-neuronales-2024-guia-2.ipynb\" target=\"_parent\"><img src=\"https://colab.research.google.com/assets/colab-badge.svg\" alt=\"Open In Colab\"/></a>"
   ]
  },
  {
   "cell_type": "markdown",
   "metadata": {
    "id": "NRYEofSD0xoF"
   },
   "source": [
    "# Familiarizandose con **Numpy**\n",
    "\n",
    "Referencias:\n",
    "* https://www.datacamp.com/cheat-sheet/numpy-cheat-sheet-data-analysis-in-python\n",
    "* https://towardsdatascience.com/a-cheat-sheet-on-generating-random-numbers-in-numpy-5fe95ec2286\n",
    "\n",
    "## **Ejercicio 1)** Importando librerías\n",
    "\n",
    "Importe las librerías `numpy` para operar con arrays, `scipy` para operar con algebra lineal y `matplotlib.pyplot` para graficar."
   ]
  },
  {
   "cell_type": "code",
   "execution_count": 1,
   "metadata": {
    "id": "I8N3D_nU1_oT"
   },
   "outputs": [],
   "source": [
    "import numpy as np\n",
    "import scipy as sp\n",
    "import matplotlib.pyplot as plt"
   ]
  },
  {
   "cell_type": "markdown",
   "metadata": {
    "id": "NcaGEHAd10sb"
   },
   "source": [
    "## **Ejercicio 2)** Creando arrays\n",
    "\n",
    "**1)** Cree un array de enteros `a` a partir de la lista `[1,2,3]`.\n",
    "\n",
    "**2)** Cree un array bidimensional de flotantes `b` a partir de la lista de listas `[[1.5,2,3],[4,5,6]]`.\n",
    "\n",
    "**3)** Cree un array tridimensional de flotantes `c` a partir de la lista de listas `[[[1.5,2,3],[4,5,6]],[[3,2,1],[4,5,6]]]`."
   ]
  },
  {
   "cell_type": "code",
   "execution_count": 4,
   "metadata": {
    "id": "kmcjSK0BCua3"
   },
   "outputs": [],
   "source": [
    "# 2.1)\n",
    "a = np.array([1,2,3])\n",
    "# 2.2)\n",
    "b = np.array([[1.5,2,3],[4,5,6]])\n",
    "# 2.3)\n",
    "c = np.array([[[1.5,2,3],[4,5,6]],[[3,2,1],[4,5,6]]])"
   ]
  },
  {
   "cell_type": "code",
   "execution_count": 6,
   "metadata": {
    "colab": {
     "base_uri": "https://localhost:8080/"
    },
    "id": "j7UWPTrfYH-x",
    "outputId": "16f54a20-376f-40da-ce74-31979d42e30c"
   },
   "outputs": [
    {
     "data": {
      "text/plain": [
       "array([[[1.5, 2. , 3. ],\n",
       "        [4. , 5. , 6. ]],\n",
       "\n",
       "       [[3. , 2. , 1. ],\n",
       "        [4. , 5. , 6. ]]])"
      ]
     },
     "execution_count": 6,
     "metadata": {},
     "output_type": "execute_result"
    }
   ],
   "source": [
    "c"
   ]
  },
  {
   "cell_type": "markdown",
   "metadata": {
    "id": "qxuzt1pLQAzE"
   },
   "source": [
    "## **Ejercicio 3)** Inicializando arrays\n",
    "\n",
    "**1)** Utilice `np.zeros` para crear un array bidimensional de flotantes incializados a `0.0`, y de dimensiones de tamaños `(3,4)`.\n",
    "\n",
    "**2)** Utilice `np.ones` para crear un array tridimensional de enteros inicializados a `1`, y de dimensiones `(2,3,4)`.\n",
    "\n",
    "**3)** Utilice `np.arange` para crear un array `d` de valores enteros equiespaciados de a `5` entre `10` y `25`.\n",
    "\n",
    "**4)** Utilice `np.linspace` para crear un array de `9` valores flotantes equiespaciados entre `0.0` y `9.0`.\n",
    "\n",
    "**5)** Utilice `np.full` para crear un array bidimensional llamado `e` de entradas iguales a `7`, y de dimesiones `(2,2)`.\n",
    "\n",
    "**6)** Utilice `np.eye` para crear una matriz identidad llamada `f` de dimensiones 2x2.\n",
    "\n",
    "**7)** Utilice `np.random.random` para crear un array bidimensional de dimensiones 2x2 inicializado con valores aleatorios uniformemente sorteados del intervalo $[0,1]$.\n",
    "\n",
    "**8)** Utilice `np.empty` para crear un array bidimensional sin inicializar y de dimensiones `(3,2)`.\n"
   ]
  },
  {
   "cell_type": "code",
   "execution_count": 9,
   "metadata": {
    "colab": {
     "base_uri": "https://localhost:8080/"
    },
    "id": "am2dMRPnC0BJ",
    "outputId": "d02216ec-7e5f-4b6e-c859-73b74f328c81"
   },
   "outputs": [
    {
     "data": {
      "text/plain": [
       "array([[1.39069238e-309, 1.39069238e-309],\n",
       "       [1.39069238e-309, 1.39069238e-309],\n",
       "       [1.39069238e-309, 1.39069238e-309]])"
      ]
     },
     "execution_count": 9,
     "metadata": {},
     "output_type": "execute_result"
    }
   ],
   "source": [
    "# 3.1)\n",
    "np.zeros((3,4)) #Create an array of zeros\n",
    "# 3.2)\n",
    "np.ones((2,3,4), dtype=np.int16) #Create an array of ones\n",
    "# 3.3)\n",
    "np.arange(10,25,5) #Create an array of evenly spaced values (step value)\n",
    "# 3.4)\n",
    "np.linspace(0,9,9) #Create an array of evenly spaced values (number of samples)\n",
    "# 3.5)\n",
    "e = np.full((2,2),7) #Create a constant array\n",
    "# 3.6)\n",
    "f = np.eye(2) #Create a 2X2 identity matrix\n",
    "# 3.7)\n",
    "np.random.random((2,2)) #Create an array with random values\n",
    "# 3.8)\n",
    "np.empty((3,2)) #Create an empty array"
   ]
  },
  {
   "cell_type": "markdown",
   "metadata": {
    "id": "XYA7TEySCIF6"
   },
   "source": [
    "## **Ejercicio 4)** Inspeccionando arrays\n",
    "\n",
    "Considere los arrays de los ejercicios 2) y 3).\n",
    "\n",
    "**1)** Utilizando `.shape`, determine cuales son las dimensiones del array `a`.\n",
    "\n",
    "**2)** Utilizando la función `len()`, determine el *largo* del array `a`.\n",
    "\n",
    "**3)** Utilizando `.ndim`, determine el número de dimensiones del array `b`.\n",
    "\n",
    "**4)** Utilizando `.size`, determine el número de entradas que tienen `e`.\n",
    "\n",
    "**5)** Utilizando `.dtype`, determine el tipo de los datos contenidos por el array `b`.\n",
    "\n",
    "**6)** Utilizando `.dtype.name`, determine el nombre del tipo de los datos contenidos por el array `b`.\n",
    "\n",
    "**7)** Utilizando `.astype`, convierta el array `b` a un array de tipo `int`.\n",
    "\n"
   ]
  },
  {
   "cell_type": "code",
   "execution_count": 80,
   "metadata": {
    "colab": {
     "base_uri": "https://localhost:8080/"
    },
    "id": "3w4J3xLLR8J2",
    "outputId": "1d70d20e-e82a-4e89-925f-9acb6a614009"
   },
   "outputs": [
    {
     "data": {
      "text/plain": [
       "array([[1, 2, 3],\n",
       "       [4, 5, 6]])"
      ]
     },
     "execution_count": 80,
     "metadata": {},
     "output_type": "execute_result"
    }
   ],
   "source": [
    "# 4.1)\n",
    "a.shape #Array dimensions\n",
    "# 4.2)\n",
    "len(a) #Length of array\n",
    "# 4.3)\n",
    "b.ndim #Number of array dimensions\n",
    "# 4.4)\n",
    "#e.size #Number of array elements\n",
    "# 4.5)\n",
    "b.dtype #Data type of array elements\n",
    "# 4.6)\n",
    "b.dtype.name #Name of data type\n",
    "# 4.7)\n",
    "b.astype(int) #Convert an array to a different type"
   ]
  },
  {
   "cell_type": "code",
   "execution_count": 14,
   "metadata": {
    "colab": {
     "base_uri": "https://localhost:8080/"
    },
    "id": "6QNUAjdBbZ3J",
    "outputId": "0e901570-4635-4f6c-dce4-9b3c26afb236"
   },
   "outputs": [
    {
     "name": "stdout",
     "output_type": "stream",
     "text": [
      "3\n"
     ]
    },
    {
     "data": {
      "text/plain": [
       "(2, 2, 3)"
      ]
     },
     "execution_count": 14,
     "metadata": {},
     "output_type": "execute_result"
    }
   ],
   "source": [
    "print(c.ndim)\n",
    "c.shape"
   ]
  },
  {
   "cell_type": "markdown",
   "metadata": {
    "id": "NIvk_fOTpihu"
   },
   "source": [
    "## **Ejercicio 5)** Tipos de datos\n",
    "\n",
    "**1)** Cree un array que contenga elementos de tipo `np.int64`.\n",
    "\n",
    "**2)** Cree un array que contenga elementos de tipo `np.float32`.\n",
    "\n",
    "**3)** Cree un array que contenga elementos de tipo `np.complex`.\n",
    "\n",
    "**4)** Cree un array que contenga elementos de tipo `np.bool`.\n",
    "\n",
    "**5)** Cree un array que contenga elementos de tipo `np.object`.\n",
    "\n",
    "**6)** Cree un array que contenga elementos de tipo `np.string_`.\n",
    "\n",
    "**7)** Cree un array que contenga elementos de tipo `np.unicode_`."
   ]
  },
  {
   "cell_type": "code",
   "execution_count": 17,
   "metadata": {
    "colab": {
     "base_uri": "https://localhost:8080/"
    },
    "id": "1MHRaUbvpjTl",
    "outputId": "45d5fb71-bc7b-4e03-b59b-528caf94cdd9"
   },
   "outputs": [
    {
     "data": {
      "text/plain": [
       "array(['hola', 'mundo', '😀', 'μm'], dtype='<U5')"
      ]
     },
     "execution_count": 17,
     "metadata": {},
     "output_type": "execute_result"
    }
   ],
   "source": [
    "# 5.1)\n",
    "np.array([1,2,3], dtype=np.int64)\n",
    "# 5.2)\n",
    "np.array([1,2,3], dtype=np.float32)\n",
    "# 5.3)\n",
    "np.array([1+3.j,2,3], dtype=complex)\n",
    "# 5.4)\n",
    "np.array([1,2,3], dtype=bool)\n",
    "# 5.5)\n",
    "np.array([1,\"hola\",[3,4]], dtype=object)\n",
    "# 5.6)\n",
    "np.array([\"hola\",\"mundo\",\"argentina\"], dtype=np.string_)\n",
    "# 5.7)\n",
    "np.array([\"hola\",\"mundo\",u'\\U0001F600',u'\\u03bcm'], dtype=np.unicode_)"
   ]
  },
  {
   "cell_type": "code",
   "execution_count": 19,
   "metadata": {
    "colab": {
     "base_uri": "https://localhost:8080/"
    },
    "id": "4t-KOgJtfCho",
    "outputId": "8a405a53-7e83-4256-cc9e-4aba057e55c7"
   },
   "outputs": [
    {
     "data": {
      "text/plain": [
       "array(['hola', 'mundo', 'μm'], dtype='<U5')"
      ]
     },
     "execution_count": 19,
     "metadata": {},
     "output_type": "execute_result"
    }
   ],
   "source": [
    "np.array([\"hola\",\"mundo\",u'\\u03bcm'], dtype=np.unicode_)"
   ]
  },
  {
   "cell_type": "markdown",
   "metadata": {
    "id": "DKT4mjnssUjE"
   },
   "source": [
    "## **Ejercicio 6)** Operando sobre arrays\n",
    "\n",
    "Considere los arrays de los ejercicios 2) y 3).\n",
    "\n",
    "**1)** Calcule la resta `a-b` de los arrays `a` y `b` y almacene el resultado en un array `g`.\n",
    "\n",
    "**2)** Notar que `a` y `b` poseen diferentes dimensiones (i.e., `a.shape` es distinto de `b.shape`) y, sin embargo, en el inciso anterior numpy computa la suma `a+b`. Explique lo que ocurre.\n",
    "\n",
    "**3)** Compare el anterior resultado con el uso de `np.substract`.\n",
    "\n",
    "**4)** Calcule la suma `a-b` de los arrays `a` y `b`.\n",
    "\n",
    "**5)** Compare el anterior resultado con el uso de `np.add`.\n",
    "\n",
    "**6)** Calcule la división punto a punto  `a/b` de `a` y `b`.\n",
    "\n",
    "**7)** Compare el anterior resultado con el uso de `np.divide`.\n",
    "\n",
    "**8)** Calcule la multiplicación punto a punto  `a*b` de `a` y `b`.\n",
    "\n",
    "**9)** Compare el anterior resultado con el uso de `np.multiply`.\n",
    "\n",
    "**10)** Calcule la exponencial punto a punto  `np.exp(b)` de `b`.\n",
    "\n",
    "**11)** Calcule la raíz cuadrada punto a punto  `np.sqrt(b)` de `b`.\n",
    "\n",
    "**12)** Calcule el seno punto a punto  `np.sin(a)` de `a`.\n",
    "\n",
    "**13)** Calcule el coseno punto a punto  `np.sin(b)` de `b`.\n",
    "\n",
    "**14)** Calcule el logaritmo natural punto a punto  `np.log(a)` de `a`.\n",
    "\n",
    "**15)** Calcule el producto punto `e.dot(f)` entre `e` y `f`.\n",
    "\n",
    "**16)** Compare el anterior resultado con el uso de `np.dot`.\n",
    "\n",
    "**17)** Explique las diferentes opciones que puede adoptar el producto punto de numpy según el número de dimensiones que tengan sus factores.\n",
    "\n",
    "**Ayuda:** use https://numpy.org/doc/stable/reference/generated/numpy.dot.html"
   ]
  },
  {
   "cell_type": "code",
   "execution_count": 22,
   "metadata": {
    "id": "S0j5b3fiSZ1U"
   },
   "outputs": [],
   "source": [
    "# 6.1)\n",
    "g = a-b #Substraction"
   ]
  },
  {
   "cell_type": "code",
   "execution_count": 24,
   "metadata": {
    "colab": {
     "base_uri": "https://localhost:8080/"
    },
    "id": "kj-WQQhDik36",
    "outputId": "acda43ab-dd22-41db-92b9-70d24742dad7"
   },
   "outputs": [
    {
     "data": {
      "text/plain": [
       "array([[-0.5,  0. ,  0. ],\n",
       "       [-3. , -3. , -3. ]])"
      ]
     },
     "execution_count": 24,
     "metadata": {},
     "output_type": "execute_result"
    }
   ],
   "source": [
    "g"
   ]
  },
  {
   "cell_type": "code",
   "execution_count": 26,
   "metadata": {
    "colab": {
     "base_uri": "https://localhost:8080/"
    },
    "id": "iFXQOrAziIra",
    "outputId": "1e05b812-3c43-467d-8793-4375297c4404"
   },
   "outputs": [
    {
     "data": {
      "text/plain": [
       "array([[7., 7.],\n",
       "       [7., 7.]])"
      ]
     },
     "execution_count": 26,
     "metadata": {},
     "output_type": "execute_result"
    }
   ],
   "source": [
    "# 6.3)\n",
    "np.subtract(a,b) #Substraction\n",
    "# 6.4)\n",
    "b+a #Addition\n",
    "# 6.5)\n",
    "np.add(b,a) #Addition\n",
    "# 6.6)\n",
    "a/b #Division\n",
    "# 6.7)\n",
    "np.divide(a,b) #Division\n",
    "# 6.8)\n",
    "a*b #Multiplication\n",
    "# 6.9)\n",
    "np.multiply(a,b) #Multiplication\n",
    "# 6.10)\n",
    "np.exp(b) #Exponentiation\n",
    "# 6.11)\n",
    "np.sqrt(b) #Square root\n",
    "# 6.12)\n",
    "np.sin(a) #Sine\n",
    "# 6.13)\n",
    "np.cos(b) #Cosine\n",
    "# 6.14)\n",
    "np.log(a) #Natural logarithm\n",
    "# 6.15)\n",
    "e.dot(f) #Dot product\n",
    "# 6.16)\n",
    "np.dot(e,f) #Dot product"
   ]
  },
  {
   "cell_type": "code",
   "execution_count": 28,
   "metadata": {
    "colab": {
     "base_uri": "https://localhost:8080/"
    },
    "id": "UPc5YwUvkYy9",
    "outputId": "655a04b1-9322-4ada-a77e-a334823d21c8"
   },
   "outputs": [
    {
     "data": {
      "text/plain": [
       "array([[7., 7.],\n",
       "       [7., 7.]])"
      ]
     },
     "execution_count": 28,
     "metadata": {},
     "output_type": "execute_result"
    }
   ],
   "source": [
    "e.dot(f)"
   ]
  },
  {
   "cell_type": "markdown",
   "metadata": {
    "id": "Jo3x-Y7WZBBu"
   },
   "source": [
    "## **Ejercicio 7)** Comparando arrays\n",
    "\n",
    "**1)** Use `==` para realizar una compación punto a punto de los arrays `a` y `b`.\n",
    "\n",
    "**2)** Use `<` para realizar una comparación punto a punto del array `b` con el escalar `2`.\n",
    "\n",
    "**3)** Use `np.array_equal(a,b)` para determinar si `a` y `b` son iguales como arrays."
   ]
  },
  {
   "cell_type": "code",
   "execution_count": 31,
   "metadata": {
    "colab": {
     "base_uri": "https://localhost:8080/"
    },
    "id": "H9n8g9-GZAM6",
    "outputId": "74a97ea0-f3cf-42bc-977d-23a7d5179737"
   },
   "outputs": [
    {
     "data": {
      "text/plain": [
       "False"
      ]
     },
     "execution_count": 31,
     "metadata": {},
     "output_type": "execute_result"
    }
   ],
   "source": [
    "# 7.1)\n",
    "a == b #Elementwise comparison\n",
    "# 7.2)\n",
    "b < 2 #Elementwise comparison\n",
    "# 7.3)\n",
    "np.array_equal(a,b) #Arraywise comparison"
   ]
  },
  {
   "cell_type": "code",
   "execution_count": 33,
   "metadata": {
    "colab": {
     "base_uri": "https://localhost:8080/"
    },
    "id": "05UL8dH1mvCU",
    "outputId": "1cfcf4c1-338f-4b7c-914b-f4d0a1f99bfe"
   },
   "outputs": [
    {
     "data": {
      "text/plain": [
       "False"
      ]
     },
     "execution_count": 33,
     "metadata": {},
     "output_type": "execute_result"
    }
   ],
   "source": [
    "np.array_equal(a,b)"
   ]
  },
  {
   "cell_type": "markdown",
   "metadata": {
    "id": "JUrKqiWLZScG"
   },
   "source": [
    "## **Ejercicio 8)** *Copiando* arrays\n",
    "\n",
    "**1)** Use `.view()` para crear una vista llamada `h` del array `a`.\n",
    "\n",
    "**2)** Use `.copy()` para crear una copia del array `a`."
   ]
  },
  {
   "cell_type": "code",
   "execution_count": 36,
   "metadata": {
    "colab": {
     "base_uri": "https://localhost:8080/"
    },
    "id": "7bQI_mVoZRoS",
    "outputId": "8f973614-481b-4493-84ed-3556d5c1b7c6"
   },
   "outputs": [
    {
     "data": {
      "text/plain": [
       "array([1, 2, 3])"
      ]
     },
     "execution_count": 36,
     "metadata": {},
     "output_type": "execute_result"
    }
   ],
   "source": [
    "# 8.1)\n",
    "h = a.view() #Create a view of the array with the same data\n",
    "# 8.2)\n",
    "np.copy(a) #Create a copy of the array\n",
    "# 8.2.2)\n",
    "#h = a.copy() #Create a deep copy of the array"
   ]
  },
  {
   "cell_type": "code",
   "execution_count": 38,
   "metadata": {
    "id": "Sw2RQ6gnoh8e"
   },
   "outputs": [],
   "source": [
    "a = np.array([1,2,3])"
   ]
  },
  {
   "cell_type": "code",
   "execution_count": 40,
   "metadata": {
    "colab": {
     "base_uri": "https://localhost:8080/"
    },
    "id": "7iFLnC8uy5LU",
    "outputId": "bff2d6fe-caba-4313-cddc-26d03380b718"
   },
   "outputs": [
    {
     "data": {
      "text/plain": [
       "array([1, 2, 3])"
      ]
     },
     "execution_count": 40,
     "metadata": {},
     "output_type": "execute_result"
    }
   ],
   "source": [
    "a"
   ]
  },
  {
   "cell_type": "code",
   "execution_count": 42,
   "metadata": {
    "id": "Gc8Kr8QJy-0O"
   },
   "outputs": [],
   "source": [
    "h = a.view()"
   ]
  },
  {
   "cell_type": "code",
   "execution_count": 44,
   "metadata": {
    "colab": {
     "base_uri": "https://localhost:8080/"
    },
    "id": "_106giKaqX4f",
    "outputId": "eba5d11c-ed8b-42f6-db20-c563cb2f2007"
   },
   "outputs": [
    {
     "data": {
      "text/plain": [
       "array([1, 2, 3])"
      ]
     },
     "execution_count": 44,
     "metadata": {},
     "output_type": "execute_result"
    }
   ],
   "source": [
    "h"
   ]
  },
  {
   "cell_type": "code",
   "execution_count": 46,
   "metadata": {
    "id": "ZwBE0XZ_yt4-"
   },
   "outputs": [],
   "source": [
    "h[1] = 100"
   ]
  },
  {
   "cell_type": "code",
   "execution_count": 48,
   "metadata": {
    "colab": {
     "base_uri": "https://localhost:8080/"
    },
    "id": "cpwmAmuNyzg0",
    "outputId": "08cf35ff-d931-41cd-a457-945de30b17f8"
   },
   "outputs": [
    {
     "data": {
      "text/plain": [
       "array([  1, 100,   3])"
      ]
     },
     "execution_count": 48,
     "metadata": {},
     "output_type": "execute_result"
    }
   ],
   "source": [
    "h"
   ]
  },
  {
   "cell_type": "code",
   "execution_count": 50,
   "metadata": {
    "colab": {
     "base_uri": "https://localhost:8080/"
    },
    "id": "Of4lLwP6y1LE",
    "outputId": "6334958a-8dc3-4d1d-83f8-ca6e0f8330d5"
   },
   "outputs": [
    {
     "data": {
      "text/plain": [
       "array([  1, 100,   3])"
      ]
     },
     "execution_count": 50,
     "metadata": {},
     "output_type": "execute_result"
    }
   ],
   "source": [
    "a"
   ]
  },
  {
   "cell_type": "markdown",
   "metadata": {
    "id": "rBJYDjW8ZZNw"
   },
   "source": [
    "## **Ejercicio 9)** Ordenado\n",
    "\n",
    "**1)** Use `.sort()` para ordenar los elementos de `a`.\n",
    "\n",
    "**2)** Ordene los elementos de `c` a lo largo del eje `0`. Explique."
   ]
  },
  {
   "cell_type": "code",
   "execution_count": 53,
   "metadata": {
    "id": "NNNzAqsmljKV"
   },
   "outputs": [],
   "source": [
    "# 9.1)\n",
    "a.sort() #Sort an array\n",
    "# 9.2)\n",
    "c.sort(axis=0) #Sort the elements of an array's axis"
   ]
  },
  {
   "cell_type": "markdown",
   "metadata": {
    "id": "eLeebs0YZlLK"
   },
   "source": [
    "## **Ejercicio 10)** Indexado y *slicing* (rebanado) de arrays\n",
    "\n",
    "**1)** Seleccione el segundo elemento de `a`.\n",
    "\n",
    "**2)** Seleccione el elemento en la fila 1 y columna 2 de `b`.\n",
    "\n",
    "Si `n` y `m` son enteros, luego `[n:m]` indica el rango de índices que van desde `n` hasta `m-1`.\n",
    "\n",
    "**3)** Seleccione el rango `[0:2]` de elementos de `a`.\n",
    "\n",
    "**4)** Seleccione los elementos de `b` en el rango `[0:2]` de filas y la columna `1`.\n",
    "\n",
    "**5)** Seleccione todos los elementos de `b` que esten en el rango de filas `[0:1]` y el rango completo de columnas.\n",
    "\n",
    "**6)** Uso de *elipsis*. Seleccione los elementos de `c` indexados por `[1,...]`. Es esto lo mismo que lo indexado por `[1,:,:]`?\n",
    "\n",
    "Si `n`, `m` y `s` son enteros, luego `[n:m:s]` indica el rango de índices que van desde `n` hasta `m-1` saltando de a `s` elementos.\n",
    "\n",
    "**7)** Utilice lo mencionado anteriormente para acceder a los elementos de `a` de forma invertida.\n",
    "\n",
    "**8)** Seleccione los elementos de `a` que sean menores que dos.\n",
    "\n",
    "**9)** Seleccione los elementos de `b` indicados por la lista de índices `[(1,0),(0,1),(1,2),(0,0)]` utilizando, correspondientemente, una lista de indices fila y una lista de índices columna.\n",
    "\n",
    "**10)** Utilizando una lista de indices fila, seleccione las filas `1,0,1,0` de `b`, y luego, para cada selección anterior, utilice una lista de índices columna para seleccionar las columnas `0,1,2,0`."
   ]
  },
  {
   "cell_type": "code",
   "execution_count": 56,
   "metadata": {
    "id": "DKfWU3ABZrO6"
   },
   "outputs": [
    {
     "data": {
      "text/plain": [
       "array([[4. , 5. , 6. , 4. ],\n",
       "       [1.5, 2. , 3. , 1.5],\n",
       "       [4. , 5. , 6. , 4. ],\n",
       "       [1.5, 2. , 3. , 1.5]])"
      ]
     },
     "execution_count": 56,
     "metadata": {},
     "output_type": "execute_result"
    }
   ],
   "source": [
    "# 10.1)\n",
    "a[1] #Select the element\n",
    "# 10.2)\n",
    "b[1,2] #Select the element\n",
    "# 10.3)\n",
    "a[0:2] #Select items at index 0 and 1. Esto es una rebanada o slice\n",
    "# 10.4)\n",
    "b[0:2,1] #Select items at rows 0 and 1 in column 1\n",
    "# 10.5)\n",
    "b[:,1] #Select all items at row 0\n",
    "# 10.6)\n",
    "c[1,...] #Same as [1,:,:]\n",
    "# 10.7)\n",
    "a[::-1] #Reversed array a\n",
    "# 10.8)\n",
    "a[a<2] #Select elements from a less than 2\n",
    "# 10.9)\n",
    "b[[1,0,1,0],[0,1,2,0]] #Select elements (1,0),(0,1),(1,2) and (0,0)\n",
    "# 10.10)\n",
    "b[[1,0,1,0]][:,[0,1,2,0]] #Select a subset of the matrix’s rows and columns\n"
   ]
  },
  {
   "cell_type": "markdown",
   "metadata": {
    "id": "ElU003n_Z21x"
   },
   "source": [
    "## **Ejercicio 11)** transposición\n",
    "\n",
    "**1)** Use `np.transpose()` para calcular la traspuesta del array `b`, y asignarlo a una variable `i`.\n",
    "\n",
    "**2)** Use `.T` para acceder a `i` de forma traspuesta. Es esta forma traspuesta igual a `b`?"
   ]
  },
  {
   "cell_type": "code",
   "execution_count": 59,
   "metadata": {
    "id": "PdUyQZaibDQk"
   },
   "outputs": [],
   "source": [
    "# 11.1)\n",
    "np.transpose(b) #Transpose\n",
    "# 11.2)\n",
    "i = np.transpose(b) #Transpose\n",
    "i = i.T #Transpose"
   ]
  },
  {
   "cell_type": "markdown",
   "metadata": {
    "id": "QIaiu19baXiQ"
   },
   "source": [
    "## **Ejercicio 12)** Redimensionado\n",
    "\n",
    "**1)** Use `.ravel()` para *achatar* el array `b`.\n",
    "\n",
    "**2)** Use `.reshape()` para redimensionar el array `g` de manera que adquiera dimensiones especificadas por la tupla `(3,-2)`.\n",
    "\n",
    "**3)** Que indica aquí el signo negativo del segundo índice?"
   ]
  },
  {
   "cell_type": "code",
   "execution_count": 62,
   "metadata": {
    "id": "3f1juN38aUiO"
   },
   "outputs": [
    {
     "data": {
      "text/plain": [
       "array([[-0.5,  0. ],\n",
       "       [ 0. , -3. ],\n",
       "       [-3. , -3. ]])"
      ]
     },
     "execution_count": 62,
     "metadata": {},
     "output_type": "execute_result"
    }
   ],
   "source": [
    "# 12.1)\n",
    "b.ravel() #Flatten the array\n",
    "# 12.2)\n",
    "g.reshape((3,-2)) #Reshape, but don’t change data"
   ]
  },
  {
   "cell_type": "markdown",
   "metadata": {
    "id": "-NfN6hr4afE9"
   },
   "source": [
    "## **Ejercicio 13)** Agregando y quitando elementos\n",
    "\n",
    "**1)** Use `np.resize()` para crear a partir del array `h` un nuevo array de tamaño y dimensiones diferentes indicadas por `(2,6)`.\n",
    "\n",
    "**2)** Use `np.append()` para crear un nuevo array que agrege los elementos de `g` al final de los elementos de `h`. Notar que `h` y `g` tienen diferentes dimensiones. Cómo resuelve `numpy` esta cuestión?\n",
    "\n",
    "**3)** Use `np.insert()` para crear una copia de `a` en donde se inserta el número `5` en la posición indexada por `1`.\n",
    "\n",
    "**4)** Use `np.delete()` para eliminar los elementos de `a` indicados por la lista de índices `[1]`."
   ]
  },
  {
   "cell_type": "code",
   "execution_count": 65,
   "metadata": {
    "id": "eHAdt7bUaRN2"
   },
   "outputs": [
    {
     "data": {
      "text/plain": [
       "array([  1, 100])"
      ]
     },
     "execution_count": 65,
     "metadata": {},
     "output_type": "execute_result"
    }
   ],
   "source": [
    "# 13.1)\n",
    "np.resize(h,(2,6)) #Return a new array with the specified size\n",
    "# 13.2)\n",
    "np.append(h,g) #Append items to an array\n",
    "# 13.3)\n",
    "np.insert(a,1,5) #Insert items in an array\n",
    "# 13.4)\n",
    "np.delete(a,[1]) #Delete items from an array"
   ]
  },
  {
   "cell_type": "markdown",
   "metadata": {
    "id": "qtvq4B1NaRhe"
   },
   "source": [
    "## **Ejercicio 14)** Combinando arrays\n",
    "\n",
    "**a)** Use `np.concatenate()` para concatenar los arrays `a` y `d`.\n",
    "\n",
    "**b)** Use `np.vstack()` para apilar verticalmente los arrays `a` y `b`.\n",
    "\n",
    "**c)** Use `np.row_stack()` para apilar verticalmente los arrays `e` y `f`.\n",
    "\n",
    "**d)** Use `np.hstack()` para apilar horizontalmente los arrays `e` y `f`.\n",
    "\n",
    "**e)** Use `np.column_stack()` para apilar horizontalmente los arrays `a` y `d`."
   ]
  },
  {
   "cell_type": "code",
   "execution_count": 68,
   "metadata": {
    "id": "0NqrIYB3bB61"
   },
   "outputs": [
    {
     "ename": "NameError",
     "evalue": "name 'd' is not defined",
     "output_type": "error",
     "traceback": [
      "\u001b[1;31m---------------------------------------------------------------------------\u001b[0m",
      "\u001b[1;31mNameError\u001b[0m                                 Traceback (most recent call last)",
      "Cell \u001b[1;32mIn[68], line 2\u001b[0m\n\u001b[0;32m      1\u001b[0m \u001b[38;5;66;03m# 14.1)\u001b[39;00m\n\u001b[1;32m----> 2\u001b[0m np\u001b[38;5;241m.\u001b[39mconcatenate((a,\u001b[43md\u001b[49m)) \u001b[38;5;66;03m#Concatenate arrays\u001b[39;00m\n\u001b[0;32m      3\u001b[0m \u001b[38;5;66;03m# 14.2)\u001b[39;00m\n\u001b[0;32m      4\u001b[0m np\u001b[38;5;241m.\u001b[39mvstack((a,b)) \u001b[38;5;66;03m#Stack arrays vertically (row-wise)\u001b[39;00m\n",
      "\u001b[1;31mNameError\u001b[0m: name 'd' is not defined"
     ]
    }
   ],
   "source": [
    "# 14.1)\n",
    "np.concatenate((a,d)) #Concatenate arrays\n",
    "# 14.2)\n",
    "np.vstack((a,b)) #Stack arrays vertically (row-wise)\n",
    "# 14.3)\n",
    "np.row_stack((e,f)) #Stack arrays vertically (row-wise)\n",
    "# 14.4)\n",
    "np.hstack((e,f)) #Stack arrays horizontally (column-wise)\n",
    "# 14.5)\n",
    "np.column_stack((a,d)) #Create stacked column-wise arrays\n"
   ]
  },
  {
   "cell_type": "markdown",
   "metadata": {
    "id": "QXtaTV8aazoG"
   },
   "source": [
    "## **Ejercicio 15)** *Separando* arrays\n",
    "\n",
    "**a)** Use `np.hsplit()` para separar horizontalmente el array `a` en 3 partes.\n",
    "\n",
    "**b)** Use `np.vsplit()` para separar verticalmente el array `c` en 2 partes.\n",
    "\n",
    "**c)** Cree el array `z` dado por\n",
    "\n",
    "    [[1, 2, 3, 4],\n",
    "    [2, 0, 0, 2],\n",
    "    [3, 1, 1, 0]]\n",
    "\n",
    "y sepárelo en dos partes a lo largo del eje `1`."
   ]
  },
  {
   "cell_type": "code",
   "execution_count": null,
   "metadata": {
    "id": "w1zDcFsua-lN"
   },
   "outputs": [],
   "source": [
    "# 15.1)\n",
    "np.hsplit(a,3) #Split an array into several sub-arrays horizontally (column-wise)\n",
    "# 15.2)\n",
    "np.vsplit(c,2) #Split an array into several sub-arrays vertically (row-wise)\n",
    "# 15.3)"
   ]
  },
  {
   "cell_type": "markdown",
   "metadata": {
    "id": "sBolXn9yxIU7"
   },
   "source": [
    "## **Ejercicio 16)** Generando números aleatorios\n",
    "\n",
    "**1)** Use `np.random.random()` para generar un número aleatorio de tipo float64 a partir de la distribución uniforme en $[0,1]$.\n",
    "\n",
    "**2)** Use `np.random.random()` para crear un array de 10 números aleatorios de tipo float64 generados a partir de la distribución uniforme en $[0,1]$.\n",
    "\n",
    "**3)** Use `np.random.random()` para crear un array dos dimensional de dimensiones `(3,4)` conteniendo números aleatorios de tipo float64 generados a partir de la distribución uniforme en $[0,1]$.\n",
    "\n",
    "**4)** Use `np.random.randn()` para generar un número aleatorio de tipo float64 a partir de la distribución normal centrada en $\\mu=0$ y de varianza $\\sigma^2=1$.\n",
    "\n",
    "**5)** Use `np.random.randn()` para generar un número aleatorio de tipo float64 a partir de la distribución normal centrada en $\\mu=5$ y de varianza $\\sigma^2=9$.\n",
    "\n",
    "**6)** Use `np.random.randn()` para generar un array de dimensiones `(3,2,3)` conteniendo números aleatorios de tipo float64 generados a partir de la distribución normal centrada en $\\mu=-1$ y de varianza $\\sigma^2=2$.\n",
    "\n",
    "**7)** Use `np.random.randint()` para generar un número aleatorio de tipo int64 a partir de la distribución uniforme en $\\{0,1,2,3\\}$.\n",
    "\n",
    "**8)** Use `np.random.randint()` para generar un número aleatorio de tipo int64 a partir de la distribución uniforme en $\\{10,11,12,13,14,15\\}$.\n",
    "\n",
    "**9)** Use `np.random.randint()` para generar un array de dimensiones `(3,2,3)` conteniendo números aleatorios de tipo int64 generados a partir de la distribución uniforme en $\\{0,1\\}$.\n",
    "\n",
    "**10)** Use `np.random.choice()` para seleccionar uniformemente al azar un elemento de la lista `[\"perro\",\"gato\",\"loro\",\"caballo\",\"vaca\"]`.\n",
    "\n",
    "**11)** Use `np.random.choice()` para crear un array de dimensiones `(3,3)` con selecciones generadas uniformemente al azar de los elementos de la lista `[\"perro\",\"gato\",\"loro\",\"caballo\",\"vaca\"]`.\n",
    "\n",
    "**12)** Use `np.random.choice()` para crear un array de dimensiones `(3,3,3)` con selecciones generadas al azar de los elementos de la lista `[\"perro\",\"gato\",\"loro\",\"caballo\",\"vaca\"]` de acuerdo a la correspondiente lista de probabilidades `[8/16,4/16,2/16,1/16,1/16]`.\n",
    "\n",
    "**13)** Use `np.random.permutation()` generar una permutación, seleccionada uniformemente al azar una de las `n!` permutaciones que existen de un conjunto de `n` elementos, de una la lista de números entre `0` y `n-1` para `n=10` denominada `lista_n`.\n",
    "\n",
    "**14)** Repita lo anterior usando `np.random.shuffle()` para aleatorizar la lista `lista_n` *in situ*."
   ]
  },
  {
   "cell_type": "code",
   "execution_count": null,
   "metadata": {
    "id": "UMoFrNm1xEns"
   },
   "outputs": [],
   "source": [
    "# 16.1)\n",
    "np.random.random() #Return random floats in the half-open interval [0.0, 1.0)\n",
    "# 16.2)\n",
    "np.random.random(10) #Return random floats in the half-open interval [0.0, 1.0)\n",
    "# 16.3)\n",
    "np.random.random((3,4)) #Return random floats in the half-open interval [0.0, 1.0)\n",
    "# 16.4\n",
    "np.random.randn() #Return a sample (or samples) from the “standard normal” distribution.\n",
    "# 16.5\n",
    "np.random.randn(5) #Return a sample (or samples) from the “standard normal” distribution.\n",
    "# 16.6\n",
    "np.random.randn(3,2,3) #Return a sample (or samples) from the “standard normal” distribution.\n",
    "# 16.7\n",
    "np.random.randint(4) #Return random integers from low (inclusive) to high (exclusive).\n",
    "# 16.8\n",
    "np.random.randint(10,1"
   ]
  }
 ],
 "metadata": {
  "colab": {
   "provenance": []
  },
  "kernelspec": {
   "display_name": "Python 3 (ipykernel)",
   "language": "python",
   "name": "python3"
  },
  "language_info": {
   "codemirror_mode": {
    "name": "ipython",
    "version": 3
   },
   "file_extension": ".py",
   "mimetype": "text/x-python",
   "name": "python",
   "nbconvert_exporter": "python",
   "pygments_lexer": "ipython3",
   "version": "3.12.4"
  }
 },
 "nbformat": 4,
 "nbformat_minor": 4
}
